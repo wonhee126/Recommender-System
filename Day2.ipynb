{
 "cells": [
  {
   "cell_type": "code",
   "execution_count": 118,
   "metadata": {
    "colab": {
     "base_uri": "https://localhost:8080/",
     "height": 423
    },
    "id": "kTaB5r6ckdsv",
    "outputId": "b0c2832f-73ca-4d8a-d081-3f7d7791fed6"
   },
   "outputs": [
    {
     "data": {
      "text/html": [
       "<div>\n",
       "<style scoped>\n",
       "    .dataframe tbody tr th:only-of-type {\n",
       "        vertical-align: middle;\n",
       "    }\n",
       "\n",
       "    .dataframe tbody tr th {\n",
       "        vertical-align: top;\n",
       "    }\n",
       "\n",
       "    .dataframe thead th {\n",
       "        text-align: right;\n",
       "    }\n",
       "</style>\n",
       "<table border=\"1\" class=\"dataframe\">\n",
       "  <thead>\n",
       "    <tr style=\"text-align: right;\">\n",
       "      <th></th>\n",
       "      <th>user_id</th>\n",
       "      <th>artist_MBID</th>\n",
       "      <th>artist</th>\n",
       "      <th>play</th>\n",
       "    </tr>\n",
       "  </thead>\n",
       "  <tbody>\n",
       "    <tr>\n",
       "      <th>0</th>\n",
       "      <td>00000c289a1829a808ac09c00daf10bc3c4e223b</td>\n",
       "      <td>3bd73256-3905-4f3a-97e2-8b341527f805</td>\n",
       "      <td>betty blowtorch</td>\n",
       "      <td>2137</td>\n",
       "    </tr>\n",
       "    <tr>\n",
       "      <th>1</th>\n",
       "      <td>00000c289a1829a808ac09c00daf10bc3c4e223b</td>\n",
       "      <td>f2fb0ff0-5679-42ec-a55c-15109ce6e320</td>\n",
       "      <td>die Ärzte</td>\n",
       "      <td>1099</td>\n",
       "    </tr>\n",
       "    <tr>\n",
       "      <th>2</th>\n",
       "      <td>00000c289a1829a808ac09c00daf10bc3c4e223b</td>\n",
       "      <td>b3ae82c2-e60b-4551-a76d-6620f1b456aa</td>\n",
       "      <td>melissa etheridge</td>\n",
       "      <td>897</td>\n",
       "    </tr>\n",
       "    <tr>\n",
       "      <th>3</th>\n",
       "      <td>00000c289a1829a808ac09c00daf10bc3c4e223b</td>\n",
       "      <td>3d6bbeb7-f90e-4d10-b440-e153c0d10b53</td>\n",
       "      <td>elvenking</td>\n",
       "      <td>717</td>\n",
       "    </tr>\n",
       "    <tr>\n",
       "      <th>4</th>\n",
       "      <td>00000c289a1829a808ac09c00daf10bc3c4e223b</td>\n",
       "      <td>bbd2ffd7-17f4-4506-8572-c1ea58c3f9a8</td>\n",
       "      <td>juliette &amp; the licks</td>\n",
       "      <td>706</td>\n",
       "    </tr>\n",
       "    <tr>\n",
       "      <th>...</th>\n",
       "      <td>...</td>\n",
       "      <td>...</td>\n",
       "      <td>...</td>\n",
       "      <td>...</td>\n",
       "    </tr>\n",
       "    <tr>\n",
       "      <th>17535650</th>\n",
       "      <td>sep 20, 2008</td>\n",
       "      <td>7ffd711a-b34d-4739-8aab-25e045c246da</td>\n",
       "      <td>turbostaat</td>\n",
       "      <td>12</td>\n",
       "    </tr>\n",
       "    <tr>\n",
       "      <th>17535651</th>\n",
       "      <td>sep 20, 2008</td>\n",
       "      <td>9201190d-409f-426b-9339-9bd7492443e2</td>\n",
       "      <td>cuba missouri</td>\n",
       "      <td>11</td>\n",
       "    </tr>\n",
       "    <tr>\n",
       "      <th>17535652</th>\n",
       "      <td>sep 20, 2008</td>\n",
       "      <td>e7cf7ff9-ed2f-4315-aca8-bcbd3b2bfa71</td>\n",
       "      <td>little man tate</td>\n",
       "      <td>11</td>\n",
       "    </tr>\n",
       "    <tr>\n",
       "      <th>17535653</th>\n",
       "      <td>sep 20, 2008</td>\n",
       "      <td>f6f2326f-6b25-4170-b89d-e235b25508e8</td>\n",
       "      <td>sigur rós</td>\n",
       "      <td>10</td>\n",
       "    </tr>\n",
       "    <tr>\n",
       "      <th>17535654</th>\n",
       "      <td>sep 20, 2008</td>\n",
       "      <td>40f5d9e4-2de7-4f2d-ad41-e31a9a9fea27</td>\n",
       "      <td>the smiths</td>\n",
       "      <td>10</td>\n",
       "    </tr>\n",
       "  </tbody>\n",
       "</table>\n",
       "<p>17535655 rows × 4 columns</p>\n",
       "</div>"
      ],
      "text/plain": [
       "                                           user_id  \\\n",
       "0         00000c289a1829a808ac09c00daf10bc3c4e223b   \n",
       "1         00000c289a1829a808ac09c00daf10bc3c4e223b   \n",
       "2         00000c289a1829a808ac09c00daf10bc3c4e223b   \n",
       "3         00000c289a1829a808ac09c00daf10bc3c4e223b   \n",
       "4         00000c289a1829a808ac09c00daf10bc3c4e223b   \n",
       "...                                            ...   \n",
       "17535650                              sep 20, 2008   \n",
       "17535651                              sep 20, 2008   \n",
       "17535652                              sep 20, 2008   \n",
       "17535653                              sep 20, 2008   \n",
       "17535654                              sep 20, 2008   \n",
       "\n",
       "                                   artist_MBID                artist  play  \n",
       "0         3bd73256-3905-4f3a-97e2-8b341527f805       betty blowtorch  2137  \n",
       "1         f2fb0ff0-5679-42ec-a55c-15109ce6e320             die Ärzte  1099  \n",
       "2         b3ae82c2-e60b-4551-a76d-6620f1b456aa     melissa etheridge   897  \n",
       "3         3d6bbeb7-f90e-4d10-b440-e153c0d10b53             elvenking   717  \n",
       "4         bbd2ffd7-17f4-4506-8572-c1ea58c3f9a8  juliette & the licks   706  \n",
       "...                                        ...                   ...   ...  \n",
       "17535650  7ffd711a-b34d-4739-8aab-25e045c246da            turbostaat    12  \n",
       "17535651  9201190d-409f-426b-9339-9bd7492443e2         cuba missouri    11  \n",
       "17535652  e7cf7ff9-ed2f-4315-aca8-bcbd3b2bfa71       little man tate    11  \n",
       "17535653  f6f2326f-6b25-4170-b89d-e235b25508e8             sigur rós    10  \n",
       "17535654  40f5d9e4-2de7-4f2d-ad41-e31a9a9fea27            the smiths    10  \n",
       "\n",
       "[17535655 rows x 4 columns]"
      ]
     },
     "execution_count": 118,
     "metadata": {},
     "output_type": "execute_result"
    }
   ],
   "source": [
    "import pandas as pd\n",
    "import os\n",
    "\n",
    "fname = 'usersha1-artmbid-artname-plays.tsv'\n",
    "col_names = ['user_id', 'artist_MBID', 'artist', 'play']   # 임의로 지정한 컬럼명\n",
    "data = pd.read_csv(fname, sep='\\t', names= col_names)      # sep='\\t'로 주어야 tsv를 열 수 있다.\n",
    "data.head(10)\n",
    "data"
   ]
  },
  {
   "cell_type": "code",
   "execution_count": 119,
   "metadata": {
    "colab": {
     "base_uri": "https://localhost:8080/",
     "height": 363
    },
    "id": "E0KGjF2Ckib6",
    "outputId": "e374415b-be3f-410f-895f-e1a0226c9059"
   },
   "outputs": [
    {
     "data": {
      "text/html": [
       "<div>\n",
       "<style scoped>\n",
       "    .dataframe tbody tr th:only-of-type {\n",
       "        vertical-align: middle;\n",
       "    }\n",
       "\n",
       "    .dataframe tbody tr th {\n",
       "        vertical-align: top;\n",
       "    }\n",
       "\n",
       "    .dataframe thead th {\n",
       "        text-align: right;\n",
       "    }\n",
       "</style>\n",
       "<table border=\"1\" class=\"dataframe\">\n",
       "  <thead>\n",
       "    <tr style=\"text-align: right;\">\n",
       "      <th></th>\n",
       "      <th>user_id</th>\n",
       "      <th>artist</th>\n",
       "      <th>play</th>\n",
       "    </tr>\n",
       "  </thead>\n",
       "  <tbody>\n",
       "    <tr>\n",
       "      <th>0</th>\n",
       "      <td>00000c289a1829a808ac09c00daf10bc3c4e223b</td>\n",
       "      <td>betty blowtorch</td>\n",
       "      <td>2137</td>\n",
       "    </tr>\n",
       "    <tr>\n",
       "      <th>1</th>\n",
       "      <td>00000c289a1829a808ac09c00daf10bc3c4e223b</td>\n",
       "      <td>die Ärzte</td>\n",
       "      <td>1099</td>\n",
       "    </tr>\n",
       "    <tr>\n",
       "      <th>2</th>\n",
       "      <td>00000c289a1829a808ac09c00daf10bc3c4e223b</td>\n",
       "      <td>melissa etheridge</td>\n",
       "      <td>897</td>\n",
       "    </tr>\n",
       "    <tr>\n",
       "      <th>3</th>\n",
       "      <td>00000c289a1829a808ac09c00daf10bc3c4e223b</td>\n",
       "      <td>elvenking</td>\n",
       "      <td>717</td>\n",
       "    </tr>\n",
       "    <tr>\n",
       "      <th>4</th>\n",
       "      <td>00000c289a1829a808ac09c00daf10bc3c4e223b</td>\n",
       "      <td>juliette &amp; the licks</td>\n",
       "      <td>706</td>\n",
       "    </tr>\n",
       "    <tr>\n",
       "      <th>5</th>\n",
       "      <td>00000c289a1829a808ac09c00daf10bc3c4e223b</td>\n",
       "      <td>red hot chili peppers</td>\n",
       "      <td>691</td>\n",
       "    </tr>\n",
       "    <tr>\n",
       "      <th>6</th>\n",
       "      <td>00000c289a1829a808ac09c00daf10bc3c4e223b</td>\n",
       "      <td>magica</td>\n",
       "      <td>545</td>\n",
       "    </tr>\n",
       "    <tr>\n",
       "      <th>7</th>\n",
       "      <td>00000c289a1829a808ac09c00daf10bc3c4e223b</td>\n",
       "      <td>the black dahlia murder</td>\n",
       "      <td>507</td>\n",
       "    </tr>\n",
       "    <tr>\n",
       "      <th>8</th>\n",
       "      <td>00000c289a1829a808ac09c00daf10bc3c4e223b</td>\n",
       "      <td>the murmurs</td>\n",
       "      <td>424</td>\n",
       "    </tr>\n",
       "    <tr>\n",
       "      <th>9</th>\n",
       "      <td>00000c289a1829a808ac09c00daf10bc3c4e223b</td>\n",
       "      <td>lunachicks</td>\n",
       "      <td>403</td>\n",
       "    </tr>\n",
       "  </tbody>\n",
       "</table>\n",
       "</div>"
      ],
      "text/plain": [
       "                                    user_id                   artist  play\n",
       "0  00000c289a1829a808ac09c00daf10bc3c4e223b          betty blowtorch  2137\n",
       "1  00000c289a1829a808ac09c00daf10bc3c4e223b                die Ärzte  1099\n",
       "2  00000c289a1829a808ac09c00daf10bc3c4e223b        melissa etheridge   897\n",
       "3  00000c289a1829a808ac09c00daf10bc3c4e223b                elvenking   717\n",
       "4  00000c289a1829a808ac09c00daf10bc3c4e223b     juliette & the licks   706\n",
       "5  00000c289a1829a808ac09c00daf10bc3c4e223b    red hot chili peppers   691\n",
       "6  00000c289a1829a808ac09c00daf10bc3c4e223b                   magica   545\n",
       "7  00000c289a1829a808ac09c00daf10bc3c4e223b  the black dahlia murder   507\n",
       "8  00000c289a1829a808ac09c00daf10bc3c4e223b              the murmurs   424\n",
       "9  00000c289a1829a808ac09c00daf10bc3c4e223b               lunachicks   403"
      ]
     },
     "execution_count": 119,
     "metadata": {},
     "output_type": "execute_result"
    }
   ],
   "source": [
    "using_cols = ['user_id', 'artist', 'play']\n",
    "data = data[using_cols]\n",
    "data.head(10)"
   ]
  },
  {
   "cell_type": "code",
   "execution_count": 120,
   "metadata": {
    "colab": {
     "base_uri": "https://localhost:8080/",
     "height": 363
    },
    "id": "5hmtBRnfkkSC",
    "outputId": "11257581-dc1d-4311-bb2b-60d7c933c0d6"
   },
   "outputs": [
    {
     "name": "stderr",
     "output_type": "stream",
     "text": [
      "C:\\Users\\juwonhee\\AppData\\Local\\Temp\\ipykernel_13068\\1588653435.py:1: SettingWithCopyWarning: \n",
      "A value is trying to be set on a copy of a slice from a DataFrame.\n",
      "Try using .loc[row_indexer,col_indexer] = value instead\n",
      "\n",
      "See the caveats in the documentation: https://pandas.pydata.org/pandas-docs/stable/user_guide/indexing.html#returning-a-view-versus-a-copy\n",
      "  data['artist'] = data['artist'].str.lower()\n"
     ]
    },
    {
     "data": {
      "text/html": [
       "<div>\n",
       "<style scoped>\n",
       "    .dataframe tbody tr th:only-of-type {\n",
       "        vertical-align: middle;\n",
       "    }\n",
       "\n",
       "    .dataframe tbody tr th {\n",
       "        vertical-align: top;\n",
       "    }\n",
       "\n",
       "    .dataframe thead th {\n",
       "        text-align: right;\n",
       "    }\n",
       "</style>\n",
       "<table border=\"1\" class=\"dataframe\">\n",
       "  <thead>\n",
       "    <tr style=\"text-align: right;\">\n",
       "      <th></th>\n",
       "      <th>user_id</th>\n",
       "      <th>artist</th>\n",
       "      <th>play</th>\n",
       "    </tr>\n",
       "  </thead>\n",
       "  <tbody>\n",
       "    <tr>\n",
       "      <th>0</th>\n",
       "      <td>00000c289a1829a808ac09c00daf10bc3c4e223b</td>\n",
       "      <td>betty blowtorch</td>\n",
       "      <td>2137</td>\n",
       "    </tr>\n",
       "    <tr>\n",
       "      <th>1</th>\n",
       "      <td>00000c289a1829a808ac09c00daf10bc3c4e223b</td>\n",
       "      <td>die ärzte</td>\n",
       "      <td>1099</td>\n",
       "    </tr>\n",
       "    <tr>\n",
       "      <th>2</th>\n",
       "      <td>00000c289a1829a808ac09c00daf10bc3c4e223b</td>\n",
       "      <td>melissa etheridge</td>\n",
       "      <td>897</td>\n",
       "    </tr>\n",
       "    <tr>\n",
       "      <th>3</th>\n",
       "      <td>00000c289a1829a808ac09c00daf10bc3c4e223b</td>\n",
       "      <td>elvenking</td>\n",
       "      <td>717</td>\n",
       "    </tr>\n",
       "    <tr>\n",
       "      <th>4</th>\n",
       "      <td>00000c289a1829a808ac09c00daf10bc3c4e223b</td>\n",
       "      <td>juliette &amp; the licks</td>\n",
       "      <td>706</td>\n",
       "    </tr>\n",
       "    <tr>\n",
       "      <th>5</th>\n",
       "      <td>00000c289a1829a808ac09c00daf10bc3c4e223b</td>\n",
       "      <td>red hot chili peppers</td>\n",
       "      <td>691</td>\n",
       "    </tr>\n",
       "    <tr>\n",
       "      <th>6</th>\n",
       "      <td>00000c289a1829a808ac09c00daf10bc3c4e223b</td>\n",
       "      <td>magica</td>\n",
       "      <td>545</td>\n",
       "    </tr>\n",
       "    <tr>\n",
       "      <th>7</th>\n",
       "      <td>00000c289a1829a808ac09c00daf10bc3c4e223b</td>\n",
       "      <td>the black dahlia murder</td>\n",
       "      <td>507</td>\n",
       "    </tr>\n",
       "    <tr>\n",
       "      <th>8</th>\n",
       "      <td>00000c289a1829a808ac09c00daf10bc3c4e223b</td>\n",
       "      <td>the murmurs</td>\n",
       "      <td>424</td>\n",
       "    </tr>\n",
       "    <tr>\n",
       "      <th>9</th>\n",
       "      <td>00000c289a1829a808ac09c00daf10bc3c4e223b</td>\n",
       "      <td>lunachicks</td>\n",
       "      <td>403</td>\n",
       "    </tr>\n",
       "  </tbody>\n",
       "</table>\n",
       "</div>"
      ],
      "text/plain": [
       "                                    user_id                   artist  play\n",
       "0  00000c289a1829a808ac09c00daf10bc3c4e223b          betty blowtorch  2137\n",
       "1  00000c289a1829a808ac09c00daf10bc3c4e223b                die ärzte  1099\n",
       "2  00000c289a1829a808ac09c00daf10bc3c4e223b        melissa etheridge   897\n",
       "3  00000c289a1829a808ac09c00daf10bc3c4e223b                elvenking   717\n",
       "4  00000c289a1829a808ac09c00daf10bc3c4e223b     juliette & the licks   706\n",
       "5  00000c289a1829a808ac09c00daf10bc3c4e223b    red hot chili peppers   691\n",
       "6  00000c289a1829a808ac09c00daf10bc3c4e223b                   magica   545\n",
       "7  00000c289a1829a808ac09c00daf10bc3c4e223b  the black dahlia murder   507\n",
       "8  00000c289a1829a808ac09c00daf10bc3c4e223b              the murmurs   424\n",
       "9  00000c289a1829a808ac09c00daf10bc3c4e223b               lunachicks   403"
      ]
     },
     "execution_count": 120,
     "metadata": {},
     "output_type": "execute_result"
    }
   ],
   "source": [
    "data['artist'] = data['artist'].str.lower()\n",
    "data.head(10)"
   ]
  },
  {
   "cell_type": "code",
   "execution_count": 121,
   "metadata": {
    "colab": {
     "base_uri": "https://localhost:8080/",
     "height": 1000
    },
    "id": "Vze7R1dJkncy",
    "outputId": "09b1a4a3-7b40-4dfa-d94a-c8d94544a157"
   },
   "outputs": [
    {
     "data": {
      "text/html": [
       "<div>\n",
       "<style scoped>\n",
       "    .dataframe tbody tr th:only-of-type {\n",
       "        vertical-align: middle;\n",
       "    }\n",
       "\n",
       "    .dataframe tbody tr th {\n",
       "        vertical-align: top;\n",
       "    }\n",
       "\n",
       "    .dataframe thead th {\n",
       "        text-align: right;\n",
       "    }\n",
       "</style>\n",
       "<table border=\"1\" class=\"dataframe\">\n",
       "  <thead>\n",
       "    <tr style=\"text-align: right;\">\n",
       "      <th></th>\n",
       "      <th>user_id</th>\n",
       "      <th>artist</th>\n",
       "      <th>play</th>\n",
       "    </tr>\n",
       "  </thead>\n",
       "  <tbody>\n",
       "    <tr>\n",
       "      <th>0</th>\n",
       "      <td>00000c289a1829a808ac09c00daf10bc3c4e223b</td>\n",
       "      <td>betty blowtorch</td>\n",
       "      <td>2137</td>\n",
       "    </tr>\n",
       "    <tr>\n",
       "      <th>1</th>\n",
       "      <td>00000c289a1829a808ac09c00daf10bc3c4e223b</td>\n",
       "      <td>die ärzte</td>\n",
       "      <td>1099</td>\n",
       "    </tr>\n",
       "    <tr>\n",
       "      <th>2</th>\n",
       "      <td>00000c289a1829a808ac09c00daf10bc3c4e223b</td>\n",
       "      <td>melissa etheridge</td>\n",
       "      <td>897</td>\n",
       "    </tr>\n",
       "    <tr>\n",
       "      <th>3</th>\n",
       "      <td>00000c289a1829a808ac09c00daf10bc3c4e223b</td>\n",
       "      <td>elvenking</td>\n",
       "      <td>717</td>\n",
       "    </tr>\n",
       "    <tr>\n",
       "      <th>4</th>\n",
       "      <td>00000c289a1829a808ac09c00daf10bc3c4e223b</td>\n",
       "      <td>juliette &amp; the licks</td>\n",
       "      <td>706</td>\n",
       "    </tr>\n",
       "    <tr>\n",
       "      <th>5</th>\n",
       "      <td>00000c289a1829a808ac09c00daf10bc3c4e223b</td>\n",
       "      <td>red hot chili peppers</td>\n",
       "      <td>691</td>\n",
       "    </tr>\n",
       "    <tr>\n",
       "      <th>6</th>\n",
       "      <td>00000c289a1829a808ac09c00daf10bc3c4e223b</td>\n",
       "      <td>magica</td>\n",
       "      <td>545</td>\n",
       "    </tr>\n",
       "    <tr>\n",
       "      <th>7</th>\n",
       "      <td>00000c289a1829a808ac09c00daf10bc3c4e223b</td>\n",
       "      <td>the black dahlia murder</td>\n",
       "      <td>507</td>\n",
       "    </tr>\n",
       "    <tr>\n",
       "      <th>8</th>\n",
       "      <td>00000c289a1829a808ac09c00daf10bc3c4e223b</td>\n",
       "      <td>the murmurs</td>\n",
       "      <td>424</td>\n",
       "    </tr>\n",
       "    <tr>\n",
       "      <th>9</th>\n",
       "      <td>00000c289a1829a808ac09c00daf10bc3c4e223b</td>\n",
       "      <td>lunachicks</td>\n",
       "      <td>403</td>\n",
       "    </tr>\n",
       "    <tr>\n",
       "      <th>10</th>\n",
       "      <td>00000c289a1829a808ac09c00daf10bc3c4e223b</td>\n",
       "      <td>walls of jericho</td>\n",
       "      <td>393</td>\n",
       "    </tr>\n",
       "    <tr>\n",
       "      <th>11</th>\n",
       "      <td>00000c289a1829a808ac09c00daf10bc3c4e223b</td>\n",
       "      <td>letzte instanz</td>\n",
       "      <td>387</td>\n",
       "    </tr>\n",
       "    <tr>\n",
       "      <th>12</th>\n",
       "      <td>00000c289a1829a808ac09c00daf10bc3c4e223b</td>\n",
       "      <td>goldfrapp</td>\n",
       "      <td>361</td>\n",
       "    </tr>\n",
       "    <tr>\n",
       "      <th>13</th>\n",
       "      <td>00000c289a1829a808ac09c00daf10bc3c4e223b</td>\n",
       "      <td>horrorpops</td>\n",
       "      <td>358</td>\n",
       "    </tr>\n",
       "    <tr>\n",
       "      <th>14</th>\n",
       "      <td>00000c289a1829a808ac09c00daf10bc3c4e223b</td>\n",
       "      <td>the butchies</td>\n",
       "      <td>329</td>\n",
       "    </tr>\n",
       "    <tr>\n",
       "      <th>15</th>\n",
       "      <td>00000c289a1829a808ac09c00daf10bc3c4e223b</td>\n",
       "      <td>jack off jill</td>\n",
       "      <td>316</td>\n",
       "    </tr>\n",
       "    <tr>\n",
       "      <th>16</th>\n",
       "      <td>00000c289a1829a808ac09c00daf10bc3c4e223b</td>\n",
       "      <td>babes in toyland</td>\n",
       "      <td>310</td>\n",
       "    </tr>\n",
       "    <tr>\n",
       "      <th>17</th>\n",
       "      <td>00000c289a1829a808ac09c00daf10bc3c4e223b</td>\n",
       "      <td>dropkick murphys</td>\n",
       "      <td>302</td>\n",
       "    </tr>\n",
       "    <tr>\n",
       "      <th>18</th>\n",
       "      <td>00000c289a1829a808ac09c00daf10bc3c4e223b</td>\n",
       "      <td>all:my:faults</td>\n",
       "      <td>288</td>\n",
       "    </tr>\n",
       "    <tr>\n",
       "      <th>19</th>\n",
       "      <td>00000c289a1829a808ac09c00daf10bc3c4e223b</td>\n",
       "      <td>le tigre</td>\n",
       "      <td>281</td>\n",
       "    </tr>\n",
       "    <tr>\n",
       "      <th>20</th>\n",
       "      <td>00000c289a1829a808ac09c00daf10bc3c4e223b</td>\n",
       "      <td>schandmaul</td>\n",
       "      <td>244</td>\n",
       "    </tr>\n",
       "    <tr>\n",
       "      <th>21</th>\n",
       "      <td>00000c289a1829a808ac09c00daf10bc3c4e223b</td>\n",
       "      <td>edguy</td>\n",
       "      <td>232</td>\n",
       "    </tr>\n",
       "    <tr>\n",
       "      <th>22</th>\n",
       "      <td>00000c289a1829a808ac09c00daf10bc3c4e223b</td>\n",
       "      <td>maximum the hormone</td>\n",
       "      <td>231</td>\n",
       "    </tr>\n",
       "    <tr>\n",
       "      <th>23</th>\n",
       "      <td>00000c289a1829a808ac09c00daf10bc3c4e223b</td>\n",
       "      <td>all ends</td>\n",
       "      <td>229</td>\n",
       "    </tr>\n",
       "    <tr>\n",
       "      <th>24</th>\n",
       "      <td>00000c289a1829a808ac09c00daf10bc3c4e223b</td>\n",
       "      <td>jack johnson</td>\n",
       "      <td>227</td>\n",
       "    </tr>\n",
       "    <tr>\n",
       "      <th>25</th>\n",
       "      <td>00000c289a1829a808ac09c00daf10bc3c4e223b</td>\n",
       "      <td>eluveitie</td>\n",
       "      <td>222</td>\n",
       "    </tr>\n",
       "    <tr>\n",
       "      <th>26</th>\n",
       "      <td>00000c289a1829a808ac09c00daf10bc3c4e223b</td>\n",
       "      <td>rasputina</td>\n",
       "      <td>220</td>\n",
       "    </tr>\n",
       "    <tr>\n",
       "      <th>27</th>\n",
       "      <td>00000c289a1829a808ac09c00daf10bc3c4e223b</td>\n",
       "      <td>london after midnight</td>\n",
       "      <td>210</td>\n",
       "    </tr>\n",
       "    <tr>\n",
       "      <th>28</th>\n",
       "      <td>00000c289a1829a808ac09c00daf10bc3c4e223b</td>\n",
       "      <td>the killers</td>\n",
       "      <td>208</td>\n",
       "    </tr>\n",
       "    <tr>\n",
       "      <th>29</th>\n",
       "      <td>00000c289a1829a808ac09c00daf10bc3c4e223b</td>\n",
       "      <td>mutyumu</td>\n",
       "      <td>205</td>\n",
       "    </tr>\n",
       "    <tr>\n",
       "      <th>30</th>\n",
       "      <td>00000c289a1829a808ac09c00daf10bc3c4e223b</td>\n",
       "      <td>judas priest</td>\n",
       "      <td>198</td>\n",
       "    </tr>\n",
       "    <tr>\n",
       "      <th>31</th>\n",
       "      <td>00000c289a1829a808ac09c00daf10bc3c4e223b</td>\n",
       "      <td>rob zombie</td>\n",
       "      <td>198</td>\n",
       "    </tr>\n",
       "    <tr>\n",
       "      <th>32</th>\n",
       "      <td>00000c289a1829a808ac09c00daf10bc3c4e223b</td>\n",
       "      <td>the bosshoss</td>\n",
       "      <td>189</td>\n",
       "    </tr>\n",
       "    <tr>\n",
       "      <th>33</th>\n",
       "      <td>00000c289a1829a808ac09c00daf10bc3c4e223b</td>\n",
       "      <td>blue öyster cult</td>\n",
       "      <td>185</td>\n",
       "    </tr>\n",
       "    <tr>\n",
       "      <th>34</th>\n",
       "      <td>00000c289a1829a808ac09c00daf10bc3c4e223b</td>\n",
       "      <td>sandra nasic</td>\n",
       "      <td>183</td>\n",
       "    </tr>\n",
       "    <tr>\n",
       "      <th>35</th>\n",
       "      <td>00000c289a1829a808ac09c00daf10bc3c4e223b</td>\n",
       "      <td>john mayer</td>\n",
       "      <td>182</td>\n",
       "    </tr>\n",
       "    <tr>\n",
       "      <th>36</th>\n",
       "      <td>00000c289a1829a808ac09c00daf10bc3c4e223b</td>\n",
       "      <td>sleater-kinney</td>\n",
       "      <td>175</td>\n",
       "    </tr>\n",
       "    <tr>\n",
       "      <th>37</th>\n",
       "      <td>00000c289a1829a808ac09c00daf10bc3c4e223b</td>\n",
       "      <td>the who</td>\n",
       "      <td>168</td>\n",
       "    </tr>\n",
       "    <tr>\n",
       "      <th>38</th>\n",
       "      <td>00000c289a1829a808ac09c00daf10bc3c4e223b</td>\n",
       "      <td>disciple</td>\n",
       "      <td>154</td>\n",
       "    </tr>\n",
       "    <tr>\n",
       "      <th>39</th>\n",
       "      <td>00000c289a1829a808ac09c00daf10bc3c4e223b</td>\n",
       "      <td>tanzwut</td>\n",
       "      <td>153</td>\n",
       "    </tr>\n",
       "    <tr>\n",
       "      <th>40</th>\n",
       "      <td>00000c289a1829a808ac09c00daf10bc3c4e223b</td>\n",
       "      <td>guano apes</td>\n",
       "      <td>151</td>\n",
       "    </tr>\n",
       "    <tr>\n",
       "      <th>41</th>\n",
       "      <td>00000c289a1829a808ac09c00daf10bc3c4e223b</td>\n",
       "      <td>the rolling stones</td>\n",
       "      <td>150</td>\n",
       "    </tr>\n",
       "    <tr>\n",
       "      <th>42</th>\n",
       "      <td>00000c289a1829a808ac09c00daf10bc3c4e223b</td>\n",
       "      <td>little big town</td>\n",
       "      <td>145</td>\n",
       "    </tr>\n",
       "    <tr>\n",
       "      <th>43</th>\n",
       "      <td>00000c289a1829a808ac09c00daf10bc3c4e223b</td>\n",
       "      <td>team dresch</td>\n",
       "      <td>137</td>\n",
       "    </tr>\n",
       "    <tr>\n",
       "      <th>44</th>\n",
       "      <td>00000c289a1829a808ac09c00daf10bc3c4e223b</td>\n",
       "      <td>betty</td>\n",
       "      <td>135</td>\n",
       "    </tr>\n",
       "    <tr>\n",
       "      <th>45</th>\n",
       "      <td>00000c289a1829a808ac09c00daf10bc3c4e223b</td>\n",
       "      <td>l7</td>\n",
       "      <td>135</td>\n",
       "    </tr>\n",
       "    <tr>\n",
       "      <th>46</th>\n",
       "      <td>00000c289a1829a808ac09c00daf10bc3c4e223b</td>\n",
       "      <td>bif naked</td>\n",
       "      <td>134</td>\n",
       "    </tr>\n",
       "    <tr>\n",
       "      <th>47</th>\n",
       "      <td>00000c289a1829a808ac09c00daf10bc3c4e223b</td>\n",
       "      <td>girlschool</td>\n",
       "      <td>134</td>\n",
       "    </tr>\n",
       "    <tr>\n",
       "      <th>48</th>\n",
       "      <td>00000c289a1829a808ac09c00daf10bc3c4e223b</td>\n",
       "      <td>the wallflowers</td>\n",
       "      <td>131</td>\n",
       "    </tr>\n",
       "  </tbody>\n",
       "</table>\n",
       "</div>"
      ],
      "text/plain": [
       "                                     user_id                   artist  play\n",
       "0   00000c289a1829a808ac09c00daf10bc3c4e223b          betty blowtorch  2137\n",
       "1   00000c289a1829a808ac09c00daf10bc3c4e223b                die ärzte  1099\n",
       "2   00000c289a1829a808ac09c00daf10bc3c4e223b        melissa etheridge   897\n",
       "3   00000c289a1829a808ac09c00daf10bc3c4e223b                elvenking   717\n",
       "4   00000c289a1829a808ac09c00daf10bc3c4e223b     juliette & the licks   706\n",
       "5   00000c289a1829a808ac09c00daf10bc3c4e223b    red hot chili peppers   691\n",
       "6   00000c289a1829a808ac09c00daf10bc3c4e223b                   magica   545\n",
       "7   00000c289a1829a808ac09c00daf10bc3c4e223b  the black dahlia murder   507\n",
       "8   00000c289a1829a808ac09c00daf10bc3c4e223b              the murmurs   424\n",
       "9   00000c289a1829a808ac09c00daf10bc3c4e223b               lunachicks   403\n",
       "10  00000c289a1829a808ac09c00daf10bc3c4e223b         walls of jericho   393\n",
       "11  00000c289a1829a808ac09c00daf10bc3c4e223b           letzte instanz   387\n",
       "12  00000c289a1829a808ac09c00daf10bc3c4e223b                goldfrapp   361\n",
       "13  00000c289a1829a808ac09c00daf10bc3c4e223b               horrorpops   358\n",
       "14  00000c289a1829a808ac09c00daf10bc3c4e223b             the butchies   329\n",
       "15  00000c289a1829a808ac09c00daf10bc3c4e223b            jack off jill   316\n",
       "16  00000c289a1829a808ac09c00daf10bc3c4e223b         babes in toyland   310\n",
       "17  00000c289a1829a808ac09c00daf10bc3c4e223b         dropkick murphys   302\n",
       "18  00000c289a1829a808ac09c00daf10bc3c4e223b            all:my:faults   288\n",
       "19  00000c289a1829a808ac09c00daf10bc3c4e223b                 le tigre   281\n",
       "20  00000c289a1829a808ac09c00daf10bc3c4e223b               schandmaul   244\n",
       "21  00000c289a1829a808ac09c00daf10bc3c4e223b                    edguy   232\n",
       "22  00000c289a1829a808ac09c00daf10bc3c4e223b      maximum the hormone   231\n",
       "23  00000c289a1829a808ac09c00daf10bc3c4e223b                 all ends   229\n",
       "24  00000c289a1829a808ac09c00daf10bc3c4e223b             jack johnson   227\n",
       "25  00000c289a1829a808ac09c00daf10bc3c4e223b                eluveitie   222\n",
       "26  00000c289a1829a808ac09c00daf10bc3c4e223b                rasputina   220\n",
       "27  00000c289a1829a808ac09c00daf10bc3c4e223b    london after midnight   210\n",
       "28  00000c289a1829a808ac09c00daf10bc3c4e223b              the killers   208\n",
       "29  00000c289a1829a808ac09c00daf10bc3c4e223b                  mutyumu   205\n",
       "30  00000c289a1829a808ac09c00daf10bc3c4e223b             judas priest   198\n",
       "31  00000c289a1829a808ac09c00daf10bc3c4e223b               rob zombie   198\n",
       "32  00000c289a1829a808ac09c00daf10bc3c4e223b             the bosshoss   189\n",
       "33  00000c289a1829a808ac09c00daf10bc3c4e223b         blue öyster cult   185\n",
       "34  00000c289a1829a808ac09c00daf10bc3c4e223b             sandra nasic   183\n",
       "35  00000c289a1829a808ac09c00daf10bc3c4e223b               john mayer   182\n",
       "36  00000c289a1829a808ac09c00daf10bc3c4e223b           sleater-kinney   175\n",
       "37  00000c289a1829a808ac09c00daf10bc3c4e223b                  the who   168\n",
       "38  00000c289a1829a808ac09c00daf10bc3c4e223b                 disciple   154\n",
       "39  00000c289a1829a808ac09c00daf10bc3c4e223b                  tanzwut   153\n",
       "40  00000c289a1829a808ac09c00daf10bc3c4e223b               guano apes   151\n",
       "41  00000c289a1829a808ac09c00daf10bc3c4e223b       the rolling stones   150\n",
       "42  00000c289a1829a808ac09c00daf10bc3c4e223b          little big town   145\n",
       "43  00000c289a1829a808ac09c00daf10bc3c4e223b              team dresch   137\n",
       "44  00000c289a1829a808ac09c00daf10bc3c4e223b                    betty   135\n",
       "45  00000c289a1829a808ac09c00daf10bc3c4e223b                       l7   135\n",
       "46  00000c289a1829a808ac09c00daf10bc3c4e223b                bif naked   134\n",
       "47  00000c289a1829a808ac09c00daf10bc3c4e223b               girlschool   134\n",
       "48  00000c289a1829a808ac09c00daf10bc3c4e223b          the wallflowers   131"
      ]
     },
     "execution_count": 121,
     "metadata": {},
     "output_type": "execute_result"
    }
   ],
   "source": [
    "condition = (data['user_id']== data.loc[0, 'user_id'])\n",
    "data.loc[condition]"
   ]
  },
  {
   "cell_type": "code",
   "execution_count": 122,
   "metadata": {
    "colab": {
     "base_uri": "https://localhost:8080/"
    },
    "id": "F7TMqU7Qkuys",
    "outputId": "a85db30c-ede4-4b4c-ee1d-f7580fa62683"
   },
   "outputs": [
    {
     "data": {
      "text/plain": [
       "358868"
      ]
     },
     "execution_count": 122,
     "metadata": {},
     "output_type": "execute_result"
    }
   ],
   "source": [
    "# 유저 수\n",
    "data['user_id'].nunique()"
   ]
  },
  {
   "cell_type": "code",
   "execution_count": 123,
   "metadata": {
    "colab": {
     "base_uri": "https://localhost:8080/"
    },
    "id": "yG6EKCYckwtZ",
    "outputId": "24419c54-83a9-4b5b-8724-d4d0aff679fd"
   },
   "outputs": [
    {
     "data": {
      "text/plain": [
       "291346"
      ]
     },
     "execution_count": 123,
     "metadata": {},
     "output_type": "execute_result"
    }
   ],
   "source": [
    "# 아티스트 수\n",
    "data['artist'].nunique()"
   ]
  },
  {
   "cell_type": "code",
   "execution_count": 124,
   "metadata": {
    "colab": {
     "base_uri": "https://localhost:8080/",
     "height": 1000
    },
    "id": "92MZZZ6AkyEd",
    "outputId": "7f2c1487-867a-40d2-c5d5-f6269210fc08"
   },
   "outputs": [
    {
     "data": {
      "text/plain": [
       "artist\n",
       "radiohead                77254\n",
       "the beatles              76245\n",
       "coldplay                 66658\n",
       "red hot chili peppers    48924\n",
       "muse                     46954\n",
       "metallica                45233\n",
       "pink floyd               44443\n",
       "the killers              41229\n",
       "linkin park              39773\n",
       "nirvana                  39479\n",
       "system of a down         37267\n",
       "queen                    34174\n",
       "u2                       33206\n",
       "daft punk                33001\n",
       "the cure                 32624\n",
       "led zeppelin             32295\n",
       "placebo                  32072\n",
       "depeche mode             31916\n",
       "david bowie              31862\n",
       "bob dylan                31799\n",
       "death cab for cutie      31482\n",
       "arctic monkeys           30348\n",
       "foo fighters             30144\n",
       "air                      29795\n",
       "the rolling stones       29754\n",
       "nine inch nails          28946\n",
       "sigur rós                28901\n",
       "green day                28732\n",
       "massive attack           28691\n",
       "moby                     28232\n",
       "Name: user_id, dtype: int64"
      ]
     },
     "execution_count": 124,
     "metadata": {},
     "output_type": "execute_result"
    }
   ],
   "source": [
    "# 인기 많은 아티스트\n",
    "artist_count = data.groupby('artist')['user_id'].count()\n",
    "artist_count.sort_values(ascending=False).head(30)"
   ]
  },
  {
   "cell_type": "code",
   "execution_count": 125,
   "metadata": {
    "colab": {
     "base_uri": "https://localhost:8080/",
     "height": 335
    },
    "id": "M94xO8idkzB3",
    "outputId": "d4d5cb0c-1e1a-4092-a2a9-168a275cfe9f"
   },
   "outputs": [
    {
     "data": {
      "text/plain": [
       "count    358868.000000\n",
       "mean         48.863234\n",
       "std           8.524272\n",
       "min           1.000000\n",
       "25%          46.000000\n",
       "50%          49.000000\n",
       "75%          51.000000\n",
       "max         166.000000\n",
       "Name: artist, dtype: float64"
      ]
     },
     "execution_count": 125,
     "metadata": {},
     "output_type": "execute_result"
    }
   ],
   "source": [
    "# 유저별 몇 명의 아티스트를 듣고 있는지에 대한 통계\n",
    "user_count = data.groupby('user_id')['artist'].count()\n",
    "user_count.describe()"
   ]
  },
  {
   "cell_type": "code",
   "execution_count": 126,
   "metadata": {
    "colab": {
     "base_uri": "https://localhost:8080/",
     "height": 335
    },
    "id": "OIi0R05kk0d3",
    "outputId": "adc3610b-cdcf-4b44-a27e-5060df320b5f"
   },
   "outputs": [
    {
     "data": {
      "text/plain": [
       "count    358868.000000\n",
       "mean        142.187676\n",
       "std         213.089902\n",
       "min           1.000000\n",
       "25%          32.000000\n",
       "50%          83.000000\n",
       "75%         180.000000\n",
       "max       50142.000000\n",
       "Name: play, dtype: float64"
      ]
     },
     "execution_count": 126,
     "metadata": {},
     "output_type": "execute_result"
    }
   ],
   "source": [
    "# 유저별 play횟수 중앙값에 대한 통계\n",
    "user_median = data.groupby('user_id')['play'].median()\n",
    "user_median.describe()"
   ]
  },
  {
   "cell_type": "code",
   "execution_count": 127,
   "metadata": {
    "colab": {
     "base_uri": "https://localhost:8080/",
     "height": 363
    },
    "id": "ocjlU9SHk3F7",
    "outputId": "eba81da3-fb22-4d31-f088-898b94502353"
   },
   "outputs": [
    {
     "data": {
      "text/html": [
       "<div>\n",
       "<style scoped>\n",
       "    .dataframe tbody tr th:only-of-type {\n",
       "        vertical-align: middle;\n",
       "    }\n",
       "\n",
       "    .dataframe tbody tr th {\n",
       "        vertical-align: top;\n",
       "    }\n",
       "\n",
       "    .dataframe thead th {\n",
       "        text-align: right;\n",
       "    }\n",
       "</style>\n",
       "<table border=\"1\" class=\"dataframe\">\n",
       "  <thead>\n",
       "    <tr style=\"text-align: right;\">\n",
       "      <th></th>\n",
       "      <th>user_id</th>\n",
       "      <th>artist</th>\n",
       "      <th>play</th>\n",
       "    </tr>\n",
       "  </thead>\n",
       "  <tbody>\n",
       "    <tr>\n",
       "      <th>17535650</th>\n",
       "      <td>sep 20, 2008</td>\n",
       "      <td>turbostaat</td>\n",
       "      <td>12</td>\n",
       "    </tr>\n",
       "    <tr>\n",
       "      <th>17535651</th>\n",
       "      <td>sep 20, 2008</td>\n",
       "      <td>cuba missouri</td>\n",
       "      <td>11</td>\n",
       "    </tr>\n",
       "    <tr>\n",
       "      <th>17535652</th>\n",
       "      <td>sep 20, 2008</td>\n",
       "      <td>little man tate</td>\n",
       "      <td>11</td>\n",
       "    </tr>\n",
       "    <tr>\n",
       "      <th>17535653</th>\n",
       "      <td>sep 20, 2008</td>\n",
       "      <td>sigur rós</td>\n",
       "      <td>10</td>\n",
       "    </tr>\n",
       "    <tr>\n",
       "      <th>17535654</th>\n",
       "      <td>sep 20, 2008</td>\n",
       "      <td>the smiths</td>\n",
       "      <td>10</td>\n",
       "    </tr>\n",
       "    <tr>\n",
       "      <th>0</th>\n",
       "      <td>zimin</td>\n",
       "      <td>halsey</td>\n",
       "      <td>30</td>\n",
       "    </tr>\n",
       "    <tr>\n",
       "      <th>1</th>\n",
       "      <td>zimin</td>\n",
       "      <td>justin bieber</td>\n",
       "      <td>30</td>\n",
       "    </tr>\n",
       "    <tr>\n",
       "      <th>2</th>\n",
       "      <td>zimin</td>\n",
       "      <td>one direction</td>\n",
       "      <td>30</td>\n",
       "    </tr>\n",
       "    <tr>\n",
       "      <th>3</th>\n",
       "      <td>zimin</td>\n",
       "      <td>oasis</td>\n",
       "      <td>30</td>\n",
       "    </tr>\n",
       "    <tr>\n",
       "      <th>4</th>\n",
       "      <td>zimin</td>\n",
       "      <td>taylor swift</td>\n",
       "      <td>30</td>\n",
       "    </tr>\n",
       "  </tbody>\n",
       "</table>\n",
       "</div>"
      ],
      "text/plain": [
       "               user_id           artist  play\n",
       "17535650  sep 20, 2008       turbostaat    12\n",
       "17535651  sep 20, 2008    cuba missouri    11\n",
       "17535652  sep 20, 2008  little man tate    11\n",
       "17535653  sep 20, 2008        sigur rós    10\n",
       "17535654  sep 20, 2008       the smiths    10\n",
       "0                zimin           halsey    30\n",
       "1                zimin    justin bieber    30\n",
       "2                zimin    one direction    30\n",
       "3                zimin            oasis    30\n",
       "4                zimin     taylor swift    30"
      ]
     },
     "execution_count": 127,
     "metadata": {},
     "output_type": "execute_result"
    }
   ],
   "source": [
    "my_favorite = ['halsey' , 'justin bieber' ,'one direction' ,'oasis' ,'taylor swift']\n",
    "\n",
    "# 'wonhee'이라는 user_id가 위 아티스트의 노래를 30회씩 들었다고 가정\n",
    "my_playlist = pd.DataFrame({'user_id': ['zimin']*5, 'artist': my_favorite, 'play':[30]*5})\n",
    "\n",
    "if not data.isin({'user_id':['zimin']})['user_id'].any():  # user_id에 'wonhee'이라는 데이터가 없다면\n",
    "    data = pd.concat([data, my_playlist]) # 위에 임의로 만든 my_playlist 데이터를 추가\n",
    "\n",
    "data.tail(10)       "
   ]
  },
  {
   "cell_type": "code",
   "execution_count": 128,
   "metadata": {},
   "outputs": [],
   "source": [
    "data = data.dropna()"
   ]
  },
  {
   "cell_type": "code",
   "execution_count": 129,
   "metadata": {},
   "outputs": [
    {
     "data": {
      "text/plain": [
       "user_id    0\n",
       "artist     0\n",
       "play       0\n",
       "dtype: int64"
      ]
     },
     "execution_count": 129,
     "metadata": {},
     "output_type": "execute_result"
    }
   ],
   "source": [
    "data.isna().sum()"
   ]
  },
  {
   "cell_type": "code",
   "execution_count": 130,
   "metadata": {
    "id": "UsaM5Nx4lCwL"
   },
   "outputs": [],
   "source": [
    "# 고유한 유저, 아티스트를 찾아내는 코드\n",
    "user_unique = data['user_id'].unique()\n",
    "artist_unique = data['artist'].unique()\n",
    "\n",
    "# 유저, 아티스트 indexing 하는 코드 idx는 index의 약자\n",
    "user_to_idx = {v:k for k,v in enumerate(user_unique)}\n",
    "artist_to_idx = {v:k for k,v in enumerate(artist_unique)}"
   ]
  },
  {
   "cell_type": "code",
   "execution_count": 131,
   "metadata": {
    "colab": {
     "base_uri": "https://localhost:8080/",
     "height": 460
    },
    "id": "3l0S1V1GlPRw",
    "outputId": "049b8a3a-8040-443c-f047-843cc492afc0"
   },
   "outputs": [
    {
     "name": "stdout",
     "output_type": "stream",
     "text": [
      "user_id column indexing OK!!\n",
      "artist column indexing OK!!\n"
     ]
    },
    {
     "data": {
      "text/html": [
       "<div>\n",
       "<style scoped>\n",
       "    .dataframe tbody tr th:only-of-type {\n",
       "        vertical-align: middle;\n",
       "    }\n",
       "\n",
       "    .dataframe tbody tr th {\n",
       "        vertical-align: top;\n",
       "    }\n",
       "\n",
       "    .dataframe thead th {\n",
       "        text-align: right;\n",
       "    }\n",
       "</style>\n",
       "<table border=\"1\" class=\"dataframe\">\n",
       "  <thead>\n",
       "    <tr style=\"text-align: right;\">\n",
       "      <th></th>\n",
       "      <th>user_id</th>\n",
       "      <th>artist</th>\n",
       "      <th>play</th>\n",
       "    </tr>\n",
       "  </thead>\n",
       "  <tbody>\n",
       "    <tr>\n",
       "      <th>0</th>\n",
       "      <td>0</td>\n",
       "      <td>0</td>\n",
       "      <td>2137</td>\n",
       "    </tr>\n",
       "    <tr>\n",
       "      <th>1</th>\n",
       "      <td>0</td>\n",
       "      <td>1</td>\n",
       "      <td>1099</td>\n",
       "    </tr>\n",
       "    <tr>\n",
       "      <th>2</th>\n",
       "      <td>0</td>\n",
       "      <td>2</td>\n",
       "      <td>897</td>\n",
       "    </tr>\n",
       "    <tr>\n",
       "      <th>3</th>\n",
       "      <td>0</td>\n",
       "      <td>3</td>\n",
       "      <td>717</td>\n",
       "    </tr>\n",
       "    <tr>\n",
       "      <th>4</th>\n",
       "      <td>0</td>\n",
       "      <td>4</td>\n",
       "      <td>706</td>\n",
       "    </tr>\n",
       "    <tr>\n",
       "      <th>...</th>\n",
       "      <td>...</td>\n",
       "      <td>...</td>\n",
       "      <td>...</td>\n",
       "    </tr>\n",
       "    <tr>\n",
       "      <th>0</th>\n",
       "      <td>358868</td>\n",
       "      <td>291346</td>\n",
       "      <td>30</td>\n",
       "    </tr>\n",
       "    <tr>\n",
       "      <th>1</th>\n",
       "      <td>358868</td>\n",
       "      <td>116391</td>\n",
       "      <td>30</td>\n",
       "    </tr>\n",
       "    <tr>\n",
       "      <th>2</th>\n",
       "      <td>358868</td>\n",
       "      <td>291347</td>\n",
       "      <td>30</td>\n",
       "    </tr>\n",
       "    <tr>\n",
       "      <th>3</th>\n",
       "      <td>358868</td>\n",
       "      <td>490</td>\n",
       "      <td>30</td>\n",
       "    </tr>\n",
       "    <tr>\n",
       "      <th>4</th>\n",
       "      <td>358868</td>\n",
       "      <td>7526</td>\n",
       "      <td>30</td>\n",
       "    </tr>\n",
       "  </tbody>\n",
       "</table>\n",
       "<p>17535456 rows × 3 columns</p>\n",
       "</div>"
      ],
      "text/plain": [
       "    user_id  artist  play\n",
       "0         0       0  2137\n",
       "1         0       1  1099\n",
       "2         0       2   897\n",
       "3         0       3   717\n",
       "4         0       4   706\n",
       "..      ...     ...   ...\n",
       "0    358868  291346    30\n",
       "1    358868  116391    30\n",
       "2    358868  291347    30\n",
       "3    358868     490    30\n",
       "4    358868    7526    30\n",
       "\n",
       "[17535456 rows x 3 columns]"
      ]
     },
     "execution_count": 131,
     "metadata": {},
     "output_type": "execute_result"
    }
   ],
   "source": [
    "# indexing을 통해 데이터 컬럼 내 값을 바꾸는 코드\n",
    "# dictionary 자료형의 get 함수는 https://wikidocs.net/16 을 참고\n",
    "\n",
    "# user_to_idx.get을 통해 user_id 컬럼의 모든 값을 인덱싱한 Series를 구해봄\n",
    "# 혹시 정상적으로 인덱싱되지 않은 row가 있다면 인덱스가 NaN이 될 테니 dropna()로 제거\n",
    "temp_user_data = data['user_id'].map(user_to_idx.get).dropna()\n",
    "if len(temp_user_data) == len(data):   # 모든 row가 정상적으로 인덱싱되었다면\n",
    "    print('user_id column indexing OK!!')\n",
    "    data['user_id'] = temp_user_data   # data['user_id']을 인덱싱된 Series로 교체\n",
    "else:\n",
    "    print('user_id column indexing Fail!!')\n",
    "\n",
    "# artist_to_idx을 통해 artist 컬럼도 동일한 방식으로 인덱싱\n",
    "temp_artist_data = data['artist'].map(artist_to_idx.get).dropna()\n",
    "if len(temp_artist_data) == len(data):\n",
    "    print('artist column indexing OK!!')\n",
    "    data['artist'] = temp_artist_data\n",
    "else:\n",
    "    print('artist column indexing Fail!!')\n",
    "\n",
    "data"
   ]
  },
  {
   "cell_type": "code",
   "execution_count": 132,
   "metadata": {
    "colab": {
     "base_uri": "https://localhost:8080/"
    },
    "id": "a0xLGat9mSTY",
    "outputId": "21afef4f-af80-4fb1-9eed-a9af67daa4ab"
   },
   "outputs": [
    {
     "name": "stdout",
     "output_type": "stream",
     "text": [
      "147736,17535456\n",
      "Ratio of only_one over all data is 0.84%\n"
     ]
    }
   ],
   "source": [
    "# 1회만 play한 데이터의 비율을 보는 코드\n",
    "only_one = data[data['play']==1]\n",
    "one, all_data = len(only_one), len(data)\n",
    "print(f'{one},{all_data}')\n",
    "print(f'Ratio of only_one over all data is {one/all_data:.2%}')  # f-format에 대한 설명은 https://bit.ly/2DTLqYU"
   ]
  },
  {
   "cell_type": "code",
   "execution_count": 133,
   "metadata": {
    "colab": {
     "base_uri": "https://localhost:8080/"
    },
    "id": "MKGAyV_FmvpV",
    "outputId": "5542c124-e6e3-4ccd-9fc0-c23780c1ab2a"
   },
   "outputs": [
    {
     "data": {
      "text/plain": [
       "<Compressed Sparse Row sparse matrix of dtype 'int64'\n",
       "\twith 17535374 stored elements and shape (358869, 291348)>"
      ]
     },
     "execution_count": 133,
     "metadata": {},
     "output_type": "execute_result"
    }
   ],
   "source": [
    "# 실습 위에 설명보고 이해해서 만들어보기\n",
    "from scipy.sparse import csr_matrix\n",
    "\n",
    "num_user = data['user_id'].nunique()\n",
    "num_artist = data['artist'].nunique()\n",
    "\n",
    "csr_data = csr_matrix((data.play, (data.user_id, data.artist)), shape= (num_user, num_artist))\n",
    "csr_data"
   ]
  },
  {
   "cell_type": "code",
   "execution_count": 134,
   "metadata": {
    "colab": {
     "base_uri": "https://localhost:8080/"
    },
    "id": "j_yVtZeg2Vlq",
    "outputId": "9d8e7111-4abd-45cc-8624-41102687de8e"
   },
   "outputs": [
    {
     "data": {
      "text/plain": [
       "(358869, 291348)"
      ]
     },
     "execution_count": 134,
     "metadata": {},
     "output_type": "execute_result"
    }
   ],
   "source": [
    "csr_data.shape"
   ]
  },
  {
   "cell_type": "code",
   "execution_count": 135,
   "metadata": {
    "colab": {
     "base_uri": "https://localhost:8080/"
    },
    "id": "-ZVwYXRJtC4w",
    "outputId": "39002ffe-5818-45b6-9181-694b714bcaec"
   },
   "outputs": [
    {
     "name": "stdout",
     "output_type": "stream",
     "text": [
      "Requirement already satisfied: implicit in c:\\users\\juwonhee\\anaconda3\\lib\\site-packages (0.7.2)\n",
      "Requirement already satisfied: numpy>=1.17.0 in c:\\users\\juwonhee\\anaconda3\\lib\\site-packages (from implicit) (1.26.4)\n",
      "Requirement already satisfied: scipy>=0.16 in c:\\users\\juwonhee\\anaconda3\\lib\\site-packages (from implicit) (1.15.3)\n",
      "Requirement already satisfied: tqdm>=4.27 in c:\\users\\juwonhee\\anaconda3\\lib\\site-packages (from implicit) (4.66.5)\n",
      "Requirement already satisfied: threadpoolctl in c:\\users\\juwonhee\\anaconda3\\lib\\site-packages (from implicit) (3.5.0)\n",
      "Requirement already satisfied: colorama in c:\\users\\juwonhee\\anaconda3\\lib\\site-packages (from tqdm>=4.27->implicit) (0.4.6)\n"
     ]
    }
   ],
   "source": [
    "import sys\n",
    "!{sys.executable} -m pip install implicit"
   ]
  },
  {
   "cell_type": "code",
   "execution_count": 136,
   "metadata": {
    "id": "hKklh5jtm6RY"
   },
   "outputs": [],
   "source": [
    "from implicit.als import AlternatingLeastSquares\n",
    "import os\n",
    "import numpy as np\n",
    "\n",
    "# implicit 라이브러리에서 권장하고 있는 부분\n",
    "os.environ['OPENBLAS_NUM_THREADS']='1'\n",
    "os.environ['KMP_DUPLICATE_LIB_OK']='True'\n",
    "os.environ['MKL_NUM_THREADS']='1'"
   ]
  },
  {
   "cell_type": "code",
   "execution_count": 137,
   "metadata": {
    "colab": {
     "base_uri": "https://localhost:8080/"
    },
    "id": "-cgrLgKmm6sz",
    "outputId": "c7be6564-5ae5-43a1-aac3-384297d9baec"
   },
   "outputs": [],
   "source": [
    "# Implicit AlternatingLeastSquares 모델의 선언\n",
    "als_model = AlternatingLeastSquares(factors=100, regularization=0.01, use_gpu=False, iterations=15, dtype=np.float32)"
   ]
  },
  {
   "cell_type": "code",
   "execution_count": 138,
   "metadata": {
    "colab": {
     "base_uri": "https://localhost:8080/",
     "height": 49,
     "referenced_widgets": [
      "d7d6dcb283494839a3872ee6f4f40c24",
      "bc0656b31d104967a9a9b8c68b32efb0",
      "c76914f061b04cce865143e79c8c29ed",
      "52d8062b08d64c4e909c2db9d7aa8b6c",
      "6ca007bbfa8a43fb8e47a7a75e901038",
      "3ce77a4a468d494880073a9a10e600c7",
      "5042da4ae1f94cefaab560e77053d4a8",
      "51cb9813564e4da89e61bb92d462e888",
      "a1ff0c6a6d094f3888e141103ccfc182",
      "43152f84104e4cf9842f4f61a42c208c",
      "b8573d8c0aca4cb9acdeac17be0cdd80"
     ]
    },
    "id": "BxoP5Tljm-Y8",
    "outputId": "2038638d-b00a-4360-e7cc-179f2bd628f0"
   },
   "outputs": [
    {
     "data": {
      "application/vnd.jupyter.widget-view+json": {
       "model_id": "563b23f41fbf4186918b8e9fe4429d8f",
       "version_major": 2,
       "version_minor": 0
      },
      "text/plain": [
       "  0%|          | 0/15 [00:00<?, ?it/s]"
      ]
     },
     "metadata": {},
     "output_type": "display_data"
    }
   ],
   "source": [
    "# 모델 훈련\n",
    "als_model.fit(csr_data)"
   ]
  },
  {
   "cell_type": "code",
   "execution_count": 139,
   "metadata": {
    "colab": {
     "base_uri": "https://localhost:8080/"
    },
    "id": "OirOrp6Du2qJ",
    "outputId": "d3667be1-73d9-4b28-ad64-03c30a03e00d"
   },
   "outputs": [
    {
     "name": "stdout",
     "output_type": "stream",
     "text": [
      "user_factors shape: (358869, 100)\n",
      "item_factors shape: (291348, 100)\n"
     ]
    }
   ],
   "source": [
    "print(\"user_factors shape:\", als_model.user_factors.shape)\n",
    "print(\"item_factors shape:\", als_model.item_factors.shape)"
   ]
  },
  {
   "cell_type": "code",
   "execution_count": 140,
   "metadata": {
    "colab": {
     "base_uri": "https://localhost:8080/"
    },
    "id": "uQdRhIsUnAmv",
    "outputId": "25035686-e255-4980-9fd6-b39c35c092aa"
   },
   "outputs": [],
   "source": [
    "zimin, halsey = user_to_idx['zimin'], artist_to_idx['coldplay']\n",
    "zimin_vector, halsey_vector = als_model.user_factors[wonhee], als_model.item_factors[halsey]"
   ]
  },
  {
   "cell_type": "code",
   "execution_count": 141,
   "metadata": {
    "colab": {
     "base_uri": "https://localhost:8080/"
    },
    "id": "Zs6HHZqpnHNz",
    "outputId": "53a9b228-b248-4a83-bdbc-716f97ff7b73"
   },
   "outputs": [
    {
     "data": {
      "text/plain": [
       "array([ 2.1715624 , -3.3456995 ,  4.0172496 , -7.636756  , -4.031537  ,\n",
       "        3.8317487 ,  7.5772486 , -1.7011445 ,  4.152123  ,  0.64166874,\n",
       "        0.2922272 , -1.8926167 ,  0.20091733,  3.5280612 ,  0.8547094 ,\n",
       "        4.2196193 , -1.5471694 ,  2.37811   ,  3.3685727 ,  3.5643969 ,\n",
       "        2.8252902 ,  0.30173996, -0.9694518 , -5.8408475 , -2.2370622 ,\n",
       "        4.134119  ,  4.1242704 , -2.55413   , -6.1944065 , -2.8481724 ,\n",
       "        3.9390607 , -2.438441  ,  1.8405684 ,  0.17312431,  8.583645  ,\n",
       "        2.7960525 ,  2.2013397 ,  7.567887  ,  0.1419304 , -0.46765336,\n",
       "        4.44864   , -3.2801886 , -2.2057858 , -0.9650543 , -3.2227628 ,\n",
       "        0.27100632,  2.70202   , -0.22299081, -3.0759146 , -4.7428527 ,\n",
       "       -0.9741743 , -2.6291134 , -5.208213  ,  2.5060694 , -1.6806178 ,\n",
       "       -3.161086  , -2.486722  , -6.103021  , -0.5800634 , -1.3623114 ,\n",
       "       -2.6065276 ,  2.4179292 , -2.67884   ,  5.1429887 ,  0.04354278,\n",
       "        2.878019  , -0.24230747, -3.3028913 , -0.9352479 , -1.8753262 ,\n",
       "        2.8498416 , -1.417047  ,  3.3556845 , -2.3029096 ,  0.3935063 ,\n",
       "       -0.5450204 ,  2.7368886 , -0.9898968 ,  0.26968792, -3.6850533 ,\n",
       "        7.2743497 , -1.781307  ,  2.0966957 , -1.5857084 , -2.0020962 ,\n",
       "        2.53764   ,  1.5058159 ,  3.4129827 ,  2.1355877 ,  1.0643717 ,\n",
       "        3.1252584 , -1.3656768 ,  0.33950895, -0.35930315,  3.1113086 ,\n",
       "        0.21755125,  0.90081245, -4.5941267 , -3.6281383 , -1.6020665 ],\n",
       "      dtype=float32)"
      ]
     },
     "execution_count": 141,
     "metadata": {},
     "output_type": "execute_result"
    }
   ],
   "source": [
    "zimin_vector"
   ]
  },
  {
   "cell_type": "code",
   "execution_count": 142,
   "metadata": {
    "colab": {
     "base_uri": "https://localhost:8080/"
    },
    "id": "xMo6hikEnI79",
    "outputId": "e4829222-03b6-4cc8-c54c-d8bbccfb7374"
   },
   "outputs": [
    {
     "data": {
      "text/plain": [
       "array([-6.5182557e-04,  9.7746421e-03,  2.6487164e-02, -3.6065516e-03,\n",
       "        2.1834881e-03,  2.9820933e-03,  9.9337297e-03,  1.6252710e-03,\n",
       "        1.7667245e-02,  1.1924072e-02,  1.7495003e-02,  1.3011534e-03,\n",
       "        4.9024820e-03,  1.4844720e-02,  9.1024982e-03, -1.3808826e-03,\n",
       "        8.2491990e-03,  4.4863471e-03,  1.8975671e-02,  2.3027664e-02,\n",
       "        2.4590753e-02,  9.8068276e-03,  2.4694693e-03, -3.4938594e-03,\n",
       "        3.3425328e-03,  6.8061338e-03,  9.0010772e-03, -1.3432984e-02,\n",
       "        8.7915631e-03,  1.7837619e-02,  1.6080538e-02,  1.3591421e-02,\n",
       "        1.2373922e-02,  1.0041600e-03,  8.6506559e-03, -8.3330357e-03,\n",
       "        6.1610304e-03,  1.1745915e-02,  2.8052053e-03,  2.6601622e-02,\n",
       "        3.7751733e-03,  2.3539022e-02, -8.3311563e-03,  8.6580971e-03,\n",
       "       -2.9287683e-03, -8.7992903e-03,  5.9688240e-03,  3.4044583e-03,\n",
       "       -1.4700235e-02, -2.4063749e-02,  1.1389113e-02, -4.1007791e-03,\n",
       "        1.7296799e-02, -8.8535732e-04, -5.6169126e-03,  1.4786661e-03,\n",
       "        3.0667374e-03,  4.8435428e-03, -1.3816956e-03,  1.3987924e-02,\n",
       "        1.1403784e-02,  6.7586559e-03,  1.4427485e-02,  1.5173075e-02,\n",
       "        1.1880481e-02, -1.1758147e-02,  9.9046445e-03,  4.0128249e-05,\n",
       "        2.9445323e-03,  1.6619246e-02,  1.5575316e-02,  3.8349917e-03,\n",
       "        3.0142063e-02,  1.9380413e-02, -3.6936002e-03,  2.0620553e-02,\n",
       "        2.6620215e-02,  1.0813294e-02, -6.3951565e-03,  8.8825384e-03,\n",
       "        1.5575539e-02,  1.3859330e-02, -1.1693611e-02,  1.3245047e-02,\n",
       "        5.2826572e-03,  1.6040001e-02,  7.5023235e-03,  1.5952196e-02,\n",
       "        2.5271645e-02, -4.8394026e-03, -4.3443511e-03,  1.4112758e-02,\n",
       "        1.0797379e-02,  1.4679802e-02,  2.2735793e-02,  1.0287908e-02,\n",
       "        5.5116243e-03,  5.3801143e-04, -1.9174084e-03,  6.7601320e-03],\n",
       "      dtype=float32)"
      ]
     },
     "execution_count": 142,
     "metadata": {},
     "output_type": "execute_result"
    }
   ],
   "source": [
    "halsey_vector"
   ]
  },
  {
   "cell_type": "code",
   "execution_count": 143,
   "metadata": {
    "colab": {
     "base_uri": "https://localhost:8080/"
    },
    "id": "40S2gNwUnKHz",
    "outputId": "b1927f94-5fb6-41e8-9100-9fd8f85249f1"
   },
   "outputs": [
    {
     "data": {
      "text/plain": [
       "1.0093262"
      ]
     },
     "execution_count": 143,
     "metadata": {},
     "output_type": "execute_result"
    }
   ],
   "source": [
    "# zimin halsey를 내적하는 코드\n",
    "np.dot(zimin_vector, halsey_vector)"
   ]
  },
  {
   "cell_type": "code",
   "execution_count": 144,
   "metadata": {
    "colab": {
     "base_uri": "https://localhost:8080/"
    },
    "id": "n7-jDwMXnPRb",
    "outputId": "ae5ac6c6-9bb1-4d20-d059-b2109a877254"
   },
   "outputs": [
    {
     "data": {
      "text/plain": [
       "-0.057508446"
      ]
     },
     "execution_count": 144,
     "metadata": {},
     "output_type": "execute_result"
    }
   ],
   "source": [
    "justin_bieber = artist_to_idx['justin bieber']\n",
    "justin_bieber_vector = als_model.item_factors[justin_bieber]\n",
    "np.dot(zimin_vector, justin_bieber_vector)"
   ]
  },
  {
   "cell_type": "code",
   "execution_count": 145,
   "metadata": {
    "colab": {
     "base_uri": "https://localhost:8080/"
    },
    "id": "3a66iTBlq3_B",
    "outputId": "4936759e-4a85-4b3b-9225-556d5d004403"
   },
   "outputs": [
    {
     "data": {
      "text/plain": [
       "(array([116391,  44750, 126566,  80535,  53390, 123218, 144736, 212471,\n",
       "         90283, 106350,  46133,  50891, 164529,  54407, 133650]),\n",
       " array([0.99999994, 0.98647475, 0.9863059 , 0.98613745, 0.98608816,\n",
       "        0.9857092 , 0.98532283, 0.9849482 , 0.9849343 , 0.9843402 ,\n",
       "        0.984326  , 0.98430693, 0.9841657 , 0.9840851 , 0.9838661 ],\n",
       "       dtype=float32))"
      ]
     },
     "execution_count": 145,
     "metadata": {},
     "output_type": "execute_result"
    }
   ],
   "source": [
    "favorite_artist = 'justin bieber'\n",
    "artist_id = artist_to_idx[favorite_artist]\n",
    "similar_artist = als_model.similar_items(artist_id, N=15)\n",
    "similar_artist"
   ]
  },
  {
   "cell_type": "code",
   "execution_count": 146,
   "metadata": {
    "colab": {
     "base_uri": "https://localhost:8080/"
    },
    "id": "PyrkM4wnq4X3",
    "outputId": "f3391386-e146-4bc5-819d-ff43a3e55df8"
   },
   "outputs": [
    {
     "data": {
      "text/plain": [
       "[161,\n",
       " 664,\n",
       " 740,\n",
       " 8688,\n",
       " 4725,\n",
       " 160,\n",
       " 4479,\n",
       " 1188,\n",
       " 4947,\n",
       " 7426,\n",
       " 671,\n",
       " 59,\n",
       " 2116,\n",
       " 2063,\n",
       " 13989,\n",
       " 1705,\n",
       " 1708,\n",
       " 302,\n",
       " 1444,\n",
       " 6611]"
      ]
     },
     "execution_count": 146,
     "metadata": {},
     "output_type": "execute_result"
    }
   ],
   "source": [
    "[idx_to_artist[i] for i in artist_recommended[0]]"
   ]
  },
  {
   "cell_type": "code",
   "execution_count": 147,
   "metadata": {
    "colab": {
     "base_uri": "https://localhost:8080/"
    },
    "id": "tVCwo1Rwq_jI",
    "outputId": "6ab54171-8a4e-409e-e722-e3d5947c9bd2"
   },
   "outputs": [],
   "source": [
    "def get_similar_artist(artist_name: str):\n",
    "    artist_id = artist_to_idx[artist_name]\n",
    "    similar_artist = als_model.similar_items(artist_id)\n",
    "    similar_artist = [idx_to_artist[i] for i in similar_artist[0]]\n",
    "    return similar_artist"
   ]
  },
  {
   "cell_type": "code",
   "execution_count": 148,
   "metadata": {
    "colab": {
     "base_uri": "https://localhost:8080/"
    },
    "id": "vYThnLDarAqv",
    "outputId": "619966da-57cc-404b-8c90-80d38a298f4c"
   },
   "outputs": [
    {
     "data": {
      "text/plain": [
       "[570, 3181, 562, 577, 597, 636, 557, 2727, 994, 561]"
      ]
     },
     "execution_count": 148,
     "metadata": {},
     "output_type": "execute_result"
    }
   ],
   "source": [
    "get_similar_artist('2pac')"
   ]
  },
  {
   "cell_type": "code",
   "execution_count": 149,
   "metadata": {
    "colab": {
     "base_uri": "https://localhost:8080/"
    },
    "id": "ITJp3lGOrESp",
    "outputId": "34a77596-38af-47f7-8cfb-71136ffddd30"
   },
   "outputs": [
    {
     "data": {
      "text/plain": [
       "[1800, 550, 350, 2249, 396, 618, 391, 358, 369, 354]"
      ]
     },
     "execution_count": 149,
     "metadata": {},
     "output_type": "execute_result"
    }
   ],
   "source": [
    "get_similar_artist('lady gaga')"
   ]
  },
  {
   "cell_type": "code",
   "execution_count": 150,
   "metadata": {
    "colab": {
     "base_uri": "https://localhost:8080/"
    },
    "id": "S51RjPnUrGTG",
    "outputId": "0035e58e-5175-4a01-d560-a841bc58907c"
   },
   "outputs": [
    {
     "data": {
      "text/plain": [
       "(array([7526,   62,  247,  277,    5,  490,   28,  217,  418,  910,  694,\n",
       "         473,  268,   75,  503,  969,  352,   55,  274,  782]),\n",
       " array([0.2805813 , 0.26256526, 0.25386953, 0.24787527, 0.2458687 ,\n",
       "        0.24379928, 0.24336462, 0.23852302, 0.23701273, 0.23658884,\n",
       "        0.22905296, 0.2284887 , 0.2235643 , 0.22231479, 0.22173084,\n",
       "        0.21442749, 0.21129425, 0.21115808, 0.20211329, 0.20165633],\n",
       "       dtype=float32))"
      ]
     },
     "execution_count": 150,
     "metadata": {},
     "output_type": "execute_result"
    }
   ],
   "source": [
    "user = user_to_idx['zimin']\n",
    "# recommend에서는 user*item CSR Matrix를 받는다.\n",
    "\n",
    "# artist_recommended = als_model.recommend(user, csr_data, N=20, filter_already_liked_items=True)\n",
    "artist_recommended = als_model.recommend(user, csr_data, N=20, filter_already_liked_items=False)\n",
    "artist_recommended"
   ]
  },
  {
   "cell_type": "code",
   "execution_count": 151,
   "metadata": {
    "colab": {
     "base_uri": "https://localhost:8080/"
    },
    "id": "3InSOcBJrM2D",
    "outputId": "6ae64f41-5e3b-4ee1-eb54-102c2fca058b"
   },
   "outputs": [
    {
     "data": {
      "text/plain": [
       "[7526,\n",
       " 62,\n",
       " 247,\n",
       " 277,\n",
       " 5,\n",
       " 490,\n",
       " 28,\n",
       " 217,\n",
       " 418,\n",
       " 910,\n",
       " 694,\n",
       " 473,\n",
       " 268,\n",
       " 75,\n",
       " 503,\n",
       " 969,\n",
       " 352,\n",
       " 55,\n",
       " 274,\n",
       " 782]"
      ]
     },
     "execution_count": 151,
     "metadata": {},
     "output_type": "execute_result"
    }
   ],
   "source": [
    "[idx_to_artist[i] for i in artist_recommended[0]]"
   ]
  },
  {
   "cell_type": "code",
   "execution_count": 154,
   "metadata": {
    "id": "Vce9u-lWrOdD"
   },
   "outputs": [],
   "source": [
    "rihanna = artist_to_idx['rihanna']\n",
    "explain = als_model.explain(user, csr_data, itemid=rihanna)"
   ]
  },
  {
   "cell_type": "code",
   "execution_count": 1,
   "metadata": {
    "colab": {
     "base_uri": "https://localhost:8080/"
    },
    "id": "QsOWZprtrP4H",
    "outputId": "9bf2628a-3da9-41e0-f776-2d37f03a056e"
   },
   "outputs": [],
   "source": [
    "#[(idx_to_artist[i[0]], i[1]) for i in explain[1]]"
   ]
  },
  {
   "cell_type": "code",
   "execution_count": null,
   "metadata": {
    "id": "mZuolDh0rQuI"
   },
   "outputs": [],
   "source": []
  },
  {
   "cell_type": "code",
   "execution_count": null,
   "metadata": {},
   "outputs": [],
   "source": []
  }
 ],
 "metadata": {
  "accelerator": "GPU",
  "colab": {
   "gpuType": "T4",
   "provenance": []
  },
  "kernelspec": {
   "display_name": "Python 3 (ipykernel)",
   "language": "python",
   "name": "python3"
  },
  "language_info": {
   "codemirror_mode": {
    "name": "ipython",
    "version": 3
   },
   "file_extension": ".py",
   "mimetype": "text/x-python",
   "name": "python",
   "nbconvert_exporter": "python",
   "pygments_lexer": "ipython3",
   "version": "3.12.7"
  },
  "widgets": {
   "application/vnd.jupyter.widget-state+json": {
    "3ce77a4a468d494880073a9a10e600c7": {
     "model_module": "@jupyter-widgets/base",
     "model_module_version": "1.2.0",
     "model_name": "LayoutModel",
     "state": {
      "_model_module": "@jupyter-widgets/base",
      "_model_module_version": "1.2.0",
      "_model_name": "LayoutModel",
      "_view_count": null,
      "_view_module": "@jupyter-widgets/base",
      "_view_module_version": "1.2.0",
      "_view_name": "LayoutView",
      "align_content": null,
      "align_items": null,
      "align_self": null,
      "border": null,
      "bottom": null,
      "display": null,
      "flex": null,
      "flex_flow": null,
      "grid_area": null,
      "grid_auto_columns": null,
      "grid_auto_flow": null,
      "grid_auto_rows": null,
      "grid_column": null,
      "grid_gap": null,
      "grid_row": null,
      "grid_template_areas": null,
      "grid_template_columns": null,
      "grid_template_rows": null,
      "height": null,
      "justify_content": null,
      "justify_items": null,
      "left": null,
      "margin": null,
      "max_height": null,
      "max_width": null,
      "min_height": null,
      "min_width": null,
      "object_fit": null,
      "object_position": null,
      "order": null,
      "overflow": null,
      "overflow_x": null,
      "overflow_y": null,
      "padding": null,
      "right": null,
      "top": null,
      "visibility": null,
      "width": null
     }
    },
    "43152f84104e4cf9842f4f61a42c208c": {
     "model_module": "@jupyter-widgets/base",
     "model_module_version": "1.2.0",
     "model_name": "LayoutModel",
     "state": {
      "_model_module": "@jupyter-widgets/base",
      "_model_module_version": "1.2.0",
      "_model_name": "LayoutModel",
      "_view_count": null,
      "_view_module": "@jupyter-widgets/base",
      "_view_module_version": "1.2.0",
      "_view_name": "LayoutView",
      "align_content": null,
      "align_items": null,
      "align_self": null,
      "border": null,
      "bottom": null,
      "display": null,
      "flex": null,
      "flex_flow": null,
      "grid_area": null,
      "grid_auto_columns": null,
      "grid_auto_flow": null,
      "grid_auto_rows": null,
      "grid_column": null,
      "grid_gap": null,
      "grid_row": null,
      "grid_template_areas": null,
      "grid_template_columns": null,
      "grid_template_rows": null,
      "height": null,
      "justify_content": null,
      "justify_items": null,
      "left": null,
      "margin": null,
      "max_height": null,
      "max_width": null,
      "min_height": null,
      "min_width": null,
      "object_fit": null,
      "object_position": null,
      "order": null,
      "overflow": null,
      "overflow_x": null,
      "overflow_y": null,
      "padding": null,
      "right": null,
      "top": null,
      "visibility": null,
      "width": null
     }
    },
    "5042da4ae1f94cefaab560e77053d4a8": {
     "model_module": "@jupyter-widgets/controls",
     "model_module_version": "1.5.0",
     "model_name": "DescriptionStyleModel",
     "state": {
      "_model_module": "@jupyter-widgets/controls",
      "_model_module_version": "1.5.0",
      "_model_name": "DescriptionStyleModel",
      "_view_count": null,
      "_view_module": "@jupyter-widgets/base",
      "_view_module_version": "1.2.0",
      "_view_name": "StyleView",
      "description_width": ""
     }
    },
    "51cb9813564e4da89e61bb92d462e888": {
     "model_module": "@jupyter-widgets/base",
     "model_module_version": "1.2.0",
     "model_name": "LayoutModel",
     "state": {
      "_model_module": "@jupyter-widgets/base",
      "_model_module_version": "1.2.0",
      "_model_name": "LayoutModel",
      "_view_count": null,
      "_view_module": "@jupyter-widgets/base",
      "_view_module_version": "1.2.0",
      "_view_name": "LayoutView",
      "align_content": null,
      "align_items": null,
      "align_self": null,
      "border": null,
      "bottom": null,
      "display": null,
      "flex": null,
      "flex_flow": null,
      "grid_area": null,
      "grid_auto_columns": null,
      "grid_auto_flow": null,
      "grid_auto_rows": null,
      "grid_column": null,
      "grid_gap": null,
      "grid_row": null,
      "grid_template_areas": null,
      "grid_template_columns": null,
      "grid_template_rows": null,
      "height": null,
      "justify_content": null,
      "justify_items": null,
      "left": null,
      "margin": null,
      "max_height": null,
      "max_width": null,
      "min_height": null,
      "min_width": null,
      "object_fit": null,
      "object_position": null,
      "order": null,
      "overflow": null,
      "overflow_x": null,
      "overflow_y": null,
      "padding": null,
      "right": null,
      "top": null,
      "visibility": null,
      "width": null
     }
    },
    "52d8062b08d64c4e909c2db9d7aa8b6c": {
     "model_module": "@jupyter-widgets/controls",
     "model_module_version": "1.5.0",
     "model_name": "HTMLModel",
     "state": {
      "_dom_classes": [],
      "_model_module": "@jupyter-widgets/controls",
      "_model_module_version": "1.5.0",
      "_model_name": "HTMLModel",
      "_view_count": null,
      "_view_module": "@jupyter-widgets/controls",
      "_view_module_version": "1.5.0",
      "_view_name": "HTMLView",
      "description": "",
      "description_tooltip": null,
      "layout": "IPY_MODEL_43152f84104e4cf9842f4f61a42c208c",
      "placeholder": "​",
      "style": "IPY_MODEL_b8573d8c0aca4cb9acdeac17be0cdd80",
      "value": " 15/15 [03:35&lt;00:00, 13.46s/it]"
     }
    },
    "6ca007bbfa8a43fb8e47a7a75e901038": {
     "model_module": "@jupyter-widgets/base",
     "model_module_version": "1.2.0",
     "model_name": "LayoutModel",
     "state": {
      "_model_module": "@jupyter-widgets/base",
      "_model_module_version": "1.2.0",
      "_model_name": "LayoutModel",
      "_view_count": null,
      "_view_module": "@jupyter-widgets/base",
      "_view_module_version": "1.2.0",
      "_view_name": "LayoutView",
      "align_content": null,
      "align_items": null,
      "align_self": null,
      "border": null,
      "bottom": null,
      "display": null,
      "flex": null,
      "flex_flow": null,
      "grid_area": null,
      "grid_auto_columns": null,
      "grid_auto_flow": null,
      "grid_auto_rows": null,
      "grid_column": null,
      "grid_gap": null,
      "grid_row": null,
      "grid_template_areas": null,
      "grid_template_columns": null,
      "grid_template_rows": null,
      "height": null,
      "justify_content": null,
      "justify_items": null,
      "left": null,
      "margin": null,
      "max_height": null,
      "max_width": null,
      "min_height": null,
      "min_width": null,
      "object_fit": null,
      "object_position": null,
      "order": null,
      "overflow": null,
      "overflow_x": null,
      "overflow_y": null,
      "padding": null,
      "right": null,
      "top": null,
      "visibility": null,
      "width": null
     }
    },
    "a1ff0c6a6d094f3888e141103ccfc182": {
     "model_module": "@jupyter-widgets/controls",
     "model_module_version": "1.5.0",
     "model_name": "ProgressStyleModel",
     "state": {
      "_model_module": "@jupyter-widgets/controls",
      "_model_module_version": "1.5.0",
      "_model_name": "ProgressStyleModel",
      "_view_count": null,
      "_view_module": "@jupyter-widgets/base",
      "_view_module_version": "1.2.0",
      "_view_name": "StyleView",
      "bar_color": null,
      "description_width": ""
     }
    },
    "b8573d8c0aca4cb9acdeac17be0cdd80": {
     "model_module": "@jupyter-widgets/controls",
     "model_module_version": "1.5.0",
     "model_name": "DescriptionStyleModel",
     "state": {
      "_model_module": "@jupyter-widgets/controls",
      "_model_module_version": "1.5.0",
      "_model_name": "DescriptionStyleModel",
      "_view_count": null,
      "_view_module": "@jupyter-widgets/base",
      "_view_module_version": "1.2.0",
      "_view_name": "StyleView",
      "description_width": ""
     }
    },
    "bc0656b31d104967a9a9b8c68b32efb0": {
     "model_module": "@jupyter-widgets/controls",
     "model_module_version": "1.5.0",
     "model_name": "HTMLModel",
     "state": {
      "_dom_classes": [],
      "_model_module": "@jupyter-widgets/controls",
      "_model_module_version": "1.5.0",
      "_model_name": "HTMLModel",
      "_view_count": null,
      "_view_module": "@jupyter-widgets/controls",
      "_view_module_version": "1.5.0",
      "_view_name": "HTMLView",
      "description": "",
      "description_tooltip": null,
      "layout": "IPY_MODEL_3ce77a4a468d494880073a9a10e600c7",
      "placeholder": "​",
      "style": "IPY_MODEL_5042da4ae1f94cefaab560e77053d4a8",
      "value": "100%"
     }
    },
    "c76914f061b04cce865143e79c8c29ed": {
     "model_module": "@jupyter-widgets/controls",
     "model_module_version": "1.5.0",
     "model_name": "FloatProgressModel",
     "state": {
      "_dom_classes": [],
      "_model_module": "@jupyter-widgets/controls",
      "_model_module_version": "1.5.0",
      "_model_name": "FloatProgressModel",
      "_view_count": null,
      "_view_module": "@jupyter-widgets/controls",
      "_view_module_version": "1.5.0",
      "_view_name": "ProgressView",
      "bar_style": "success",
      "description": "",
      "description_tooltip": null,
      "layout": "IPY_MODEL_51cb9813564e4da89e61bb92d462e888",
      "max": 15,
      "min": 0,
      "orientation": "horizontal",
      "style": "IPY_MODEL_a1ff0c6a6d094f3888e141103ccfc182",
      "value": 15
     }
    },
    "d7d6dcb283494839a3872ee6f4f40c24": {
     "model_module": "@jupyter-widgets/controls",
     "model_module_version": "1.5.0",
     "model_name": "HBoxModel",
     "state": {
      "_dom_classes": [],
      "_model_module": "@jupyter-widgets/controls",
      "_model_module_version": "1.5.0",
      "_model_name": "HBoxModel",
      "_view_count": null,
      "_view_module": "@jupyter-widgets/controls",
      "_view_module_version": "1.5.0",
      "_view_name": "HBoxView",
      "box_style": "",
      "children": [
       "IPY_MODEL_bc0656b31d104967a9a9b8c68b32efb0",
       "IPY_MODEL_c76914f061b04cce865143e79c8c29ed",
       "IPY_MODEL_52d8062b08d64c4e909c2db9d7aa8b6c"
      ],
      "layout": "IPY_MODEL_6ca007bbfa8a43fb8e47a7a75e901038"
     }
    }
   }
  }
 },
 "nbformat": 4,
 "nbformat_minor": 4
}
