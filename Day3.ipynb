{
 "cells": [
  {
   "cell_type": "markdown",
   "id": "93ce90ab-8228-48f6-86fa-2743a0e575d8",
   "metadata": {},
   "source": [
    "# Data Preprocess"
   ]
  },
  {
   "cell_type": "markdown",
   "id": "bd23cf15-30ae-457b-9faf-4314bc9556fa",
   "metadata": {},
   "source": [
    "### Data Load"
   ]
  },
  {
   "cell_type": "code",
   "execution_count": 11,
   "id": "16c92700-b5e6-49eb-b0f5-b5ecf2c2eb10",
   "metadata": {},
   "outputs": [],
   "source": [
    "import datetime as dt\n",
    "from pathlib import Path\n",
    "import os\n",
    "\n",
    "import numpy as np\n",
    "import pandas as pd\n",
    "import warnings\n",
    "warnings.filterwarnings('ignore')"
   ]
  },
  {
   "cell_type": "code",
   "execution_count": 12,
   "id": "60c05a4e-7b79-456e-8f65-e4c844fb3d82",
   "metadata": {},
   "outputs": [
    {
     "data": {
      "text/plain": [
       "'yoochoose-clicks.dat'"
      ]
     },
     "execution_count": 12,
     "metadata": {},
     "output_type": "execute_result"
    }
   ],
   "source": [
    "train_path = 'yoochoose-clicks.dat'\n",
    "train_path"
   ]
  },
  {
   "cell_type": "code",
   "execution_count": 13,
   "id": "380d00ae-546e-4f24-8d44-3a7f1bfe5e8c",
   "metadata": {},
   "outputs": [],
   "source": [
    "def load_recent_data(data_path, cutoff_days=30):\n",
    "    chunk_size = 5_000_000\n",
    "    chunks = []\n",
    "\n",
    "    print(\"📅 [1/3] 최신 날짜 찾는 중...\")\n",
    "    latest = None\n",
    "    total_chunks = 0\n",
    "    for i, chunk in enumerate(pd.read_csv(\n",
    "        data_path,\n",
    "        sep=',',\n",
    "        header=None,\n",
    "        usecols=[0, 1, 2],\n",
    "        parse_dates=[1],\n",
    "        dtype={0: np.int32, 2: np.int32},\n",
    "        chunksize=chunk_size\n",
    "    )):\n",
    "        max_time = chunk[1].max()\n",
    "        if latest is None or max_time > latest:\n",
    "            latest = max_time\n",
    "        total_chunks += 1\n",
    "        print(f\"  ▸ 최신 날짜 스캔 중... chunk {i+1} 완료\")\n",
    "\n",
    "    print(f\"✅ 최신 날짜: {latest}\")\n",
    "    month_ago = latest - dt.timedelta(days=cutoff_days)\n",
    "    print(f\"📆 기준 날짜: {month_ago}\")\n",
    "\n",
    "    print(\"📦 [2/3] 최근 30일 데이터 필터링 중...\")\n",
    "    matched_rows = 0\n",
    "    for i, chunk in enumerate(pd.read_csv(\n",
    "        data_path,\n",
    "        sep=',',\n",
    "        header=None,\n",
    "        usecols=[0, 1, 2],\n",
    "        parse_dates=[1],\n",
    "        dtype={0: np.int32, 2: np.int32},\n",
    "        chunksize=chunk_size\n",
    "    )):\n",
    "        chunk.columns = ['SessionId', 'Time', 'ItemId']\n",
    "        filtered = chunk[chunk['Time'] > month_ago]\n",
    "        matched_rows += len(filtered)\n",
    "        if not filtered.empty:\n",
    "            chunks.append(filtered)\n",
    "        print(f\"  ▸ chunk {i+1} 처리 완료 ({len(filtered)}개 매치됨)\")\n",
    "\n",
    "    data = pd.concat(chunks, ignore_index=True)\n",
    "\n",
    "    print(\"🎉 [3/3] 필터링 완료\")\n",
    "    print(f\"🧾 최종 데이터 크기: {len(data):,} rows\")\n",
    "\n",
    "    return data"
   ]
  },
  {
   "cell_type": "code",
   "execution_count": 14,
   "id": "2bc61b91-4136-4c88-938b-6a7adc5cbff3",
   "metadata": {},
   "outputs": [
    {
     "name": "stdout",
     "output_type": "stream",
     "text": [
      "📅 [1/3] 최신 날짜 찾는 중...\n",
      "  ▸ 최신 날짜 스캔 중... chunk 1 완료\n",
      "  ▸ 최신 날짜 스캔 중... chunk 2 완료\n",
      "  ▸ 최신 날짜 스캔 중... chunk 3 완료\n",
      "  ▸ 최신 날짜 스캔 중... chunk 4 완료\n",
      "  ▸ 최신 날짜 스캔 중... chunk 5 완료\n",
      "  ▸ 최신 날짜 스캔 중... chunk 6 완료\n",
      "  ▸ 최신 날짜 스캔 중... chunk 7 완료\n",
      "✅ 최신 날짜: 2014-09-30 02:59:59.430000+00:00\n",
      "📆 기준 날짜: 2014-08-31 02:59:59.430000+00:00\n",
      "📦 [2/3] 최근 30일 데이터 필터링 중...\n",
      "  ▸ chunk 1 처리 완료 (0개 매치됨)\n",
      "  ▸ chunk 2 처리 완료 (0개 매치됨)\n",
      "  ▸ chunk 3 처리 완료 (0개 매치됨)\n",
      "  ▸ chunk 4 처리 완료 (0개 매치됨)\n",
      "  ▸ chunk 5 처리 완료 (0개 매치됨)\n",
      "  ▸ chunk 6 처리 완료 (2637457개 매치됨)\n",
      "  ▸ chunk 7 처리 완료 (3003944개 매치됨)\n",
      "🎉 [3/3] 필터링 완료\n",
      "🧾 최종 데이터 크기: 5,641,401 rows\n"
     ]
    }
   ],
   "source": [
    "data = load_recent_data(train_path)\n",
    "data.sort_values(['SessionId', 'Time'], inplace=True)"
   ]
  },
  {
   "cell_type": "code",
   "execution_count": 15,
   "id": "269ab276-aea7-4c17-aa59-5276eab2355c",
   "metadata": {},
   "outputs": [
    {
     "data": {
      "text/html": [
       "<div>\n",
       "<style scoped>\n",
       "    .dataframe tbody tr th:only-of-type {\n",
       "        vertical-align: middle;\n",
       "    }\n",
       "\n",
       "    .dataframe tbody tr th {\n",
       "        vertical-align: top;\n",
       "    }\n",
       "\n",
       "    .dataframe thead th {\n",
       "        text-align: right;\n",
       "    }\n",
       "</style>\n",
       "<table border=\"1\" class=\"dataframe\">\n",
       "  <thead>\n",
       "    <tr style=\"text-align: right;\">\n",
       "      <th></th>\n",
       "      <th>SessionId</th>\n",
       "      <th>Time</th>\n",
       "      <th>ItemId</th>\n",
       "    </tr>\n",
       "  </thead>\n",
       "  <tbody>\n",
       "    <tr>\n",
       "      <th>126221</th>\n",
       "      <td>9194111</td>\n",
       "      <td>2014-08-31 17:40:46.805000+00:00</td>\n",
       "      <td>214853420</td>\n",
       "    </tr>\n",
       "    <tr>\n",
       "      <th>126222</th>\n",
       "      <td>9194111</td>\n",
       "      <td>2014-08-31 17:42:26.089000+00:00</td>\n",
       "      <td>214850942</td>\n",
       "    </tr>\n",
       "    <tr>\n",
       "      <th>126223</th>\n",
       "      <td>9194111</td>\n",
       "      <td>2014-08-31 17:44:06.583000+00:00</td>\n",
       "      <td>214829878</td>\n",
       "    </tr>\n",
       "    <tr>\n",
       "      <th>126224</th>\n",
       "      <td>9194111</td>\n",
       "      <td>2014-08-31 17:48:49.873000+00:00</td>\n",
       "      <td>214853420</td>\n",
       "    </tr>\n",
       "    <tr>\n",
       "      <th>126317</th>\n",
       "      <td>9194112</td>\n",
       "      <td>2014-09-01 13:26:36.292000+00:00</td>\n",
       "      <td>214853422</td>\n",
       "    </tr>\n",
       "    <tr>\n",
       "      <th>...</th>\n",
       "      <td>...</td>\n",
       "      <td>...</td>\n",
       "      <td>...</td>\n",
       "    </tr>\n",
       "    <tr>\n",
       "      <th>4867944</th>\n",
       "      <td>11562158</td>\n",
       "      <td>2014-09-26 04:50:29.172000+00:00</td>\n",
       "      <td>214849132</td>\n",
       "    </tr>\n",
       "    <tr>\n",
       "      <th>4867945</th>\n",
       "      <td>11562158</td>\n",
       "      <td>2014-09-26 04:52:21.900000+00:00</td>\n",
       "      <td>214854774</td>\n",
       "    </tr>\n",
       "    <tr>\n",
       "      <th>4867946</th>\n",
       "      <td>11562158</td>\n",
       "      <td>2014-09-26 05:16:32.904000+00:00</td>\n",
       "      <td>214849132</td>\n",
       "    </tr>\n",
       "    <tr>\n",
       "      <th>4867947</th>\n",
       "      <td>11562159</td>\n",
       "      <td>2014-09-26 19:16:28.897000+00:00</td>\n",
       "      <td>214849132</td>\n",
       "    </tr>\n",
       "    <tr>\n",
       "      <th>4867934</th>\n",
       "      <td>11562161</td>\n",
       "      <td>2014-09-26 20:45:42.791000+00:00</td>\n",
       "      <td>214546022</td>\n",
       "    </tr>\n",
       "  </tbody>\n",
       "</table>\n",
       "<p>5641401 rows × 3 columns</p>\n",
       "</div>"
      ],
      "text/plain": [
       "         SessionId                             Time     ItemId\n",
       "126221     9194111 2014-08-31 17:40:46.805000+00:00  214853420\n",
       "126222     9194111 2014-08-31 17:42:26.089000+00:00  214850942\n",
       "126223     9194111 2014-08-31 17:44:06.583000+00:00  214829878\n",
       "126224     9194111 2014-08-31 17:48:49.873000+00:00  214853420\n",
       "126317     9194112 2014-09-01 13:26:36.292000+00:00  214853422\n",
       "...            ...                              ...        ...\n",
       "4867944   11562158 2014-09-26 04:50:29.172000+00:00  214849132\n",
       "4867945   11562158 2014-09-26 04:52:21.900000+00:00  214854774\n",
       "4867946   11562158 2014-09-26 05:16:32.904000+00:00  214849132\n",
       "4867947   11562159 2014-09-26 19:16:28.897000+00:00  214849132\n",
       "4867934   11562161 2014-09-26 20:45:42.791000+00:00  214546022\n",
       "\n",
       "[5641401 rows x 3 columns]"
      ]
     },
     "execution_count": 15,
     "metadata": {},
     "output_type": "execute_result"
    }
   ],
   "source": [
    "data"
   ]
  },
  {
   "cell_type": "markdown",
   "id": "a2161a67-1767-4350-b20f-7af5c96197b0",
   "metadata": {},
   "source": [
    "### Session Length"
   ]
  },
  {
   "cell_type": "code",
   "execution_count": 16,
   "id": "f0900510-97bb-420d-b30c-56d764210f57",
   "metadata": {},
   "outputs": [
    {
     "data": {
      "text/plain": [
       "SessionId\n",
       "9194111     4\n",
       "9194112     1\n",
       "9194123     3\n",
       "9194124     2\n",
       "9194126     1\n",
       "           ..\n",
       "11562156    2\n",
       "11562157    2\n",
       "11562158    3\n",
       "11562159    1\n",
       "11562161    1\n",
       "Length: 1639032, dtype: int64"
      ]
     },
     "execution_count": 16,
     "metadata": {},
     "output_type": "execute_result"
    }
   ],
   "source": [
    "session_length = data.groupby('SessionId').size() # 각 세션이 대략 몇 개의 클릭 데이터를 갖는지\n",
    "session_length"
   ]
  },
  {
   "cell_type": "code",
   "execution_count": 17,
   "id": "b41cbbcd-d666-44f8-823c-4658b998132a",
   "metadata": {},
   "outputs": [
    {
     "data": {
      "text/plain": [
       "(2.0, 3.441910225059669)"
      ]
     },
     "execution_count": 17,
     "metadata": {},
     "output_type": "execute_result"
    }
   ],
   "source": [
    "session_length.median(), session_length.mean()"
   ]
  },
  {
   "cell_type": "code",
   "execution_count": 18,
   "id": "373549f7-8eab-4b32-9943-320153da3d72",
   "metadata": {},
   "outputs": [
    {
     "data": {
      "text/plain": [
       "(1, 200)"
      ]
     },
     "execution_count": 18,
     "metadata": {},
     "output_type": "execute_result"
    }
   ],
   "source": [
    "session_length.min(), session_length.max()"
   ]
  },
  {
   "cell_type": "code",
   "execution_count": 19,
   "id": "61ef91bc-c641-4aae-91c1-7fa0dc6f66c8",
   "metadata": {},
   "outputs": [
    {
     "data": {
      "text/plain": [
       "41.0"
      ]
     },
     "execution_count": 19,
     "metadata": {},
     "output_type": "execute_result"
    }
   ],
   "source": [
    "session_length.quantile(0.999)"
   ]
  },
  {
   "cell_type": "code",
   "execution_count": 20,
   "id": "269accaa-76bb-4f96-84cc-0c435efd1ad6",
   "metadata": {},
   "outputs": [
    {
     "data": {
      "text/html": [
       "<div>\n",
       "<style scoped>\n",
       "    .dataframe tbody tr th:only-of-type {\n",
       "        vertical-align: middle;\n",
       "    }\n",
       "\n",
       "    .dataframe tbody tr th {\n",
       "        vertical-align: top;\n",
       "    }\n",
       "\n",
       "    .dataframe thead th {\n",
       "        text-align: right;\n",
       "    }\n",
       "</style>\n",
       "<table border=\"1\" class=\"dataframe\">\n",
       "  <thead>\n",
       "    <tr style=\"text-align: right;\">\n",
       "      <th></th>\n",
       "      <th>SessionId</th>\n",
       "      <th>Time</th>\n",
       "      <th>ItemId</th>\n",
       "    </tr>\n",
       "  </thead>\n",
       "  <tbody>\n",
       "    <tr>\n",
       "      <th>1497718</th>\n",
       "      <td>9781279</td>\n",
       "      <td>2014-09-05 12:36:09.590000+00:00</td>\n",
       "      <td>214534211</td>\n",
       "    </tr>\n",
       "    <tr>\n",
       "      <th>1497719</th>\n",
       "      <td>9781279</td>\n",
       "      <td>2014-09-05 12:36:14.493000+00:00</td>\n",
       "      <td>214680463</td>\n",
       "    </tr>\n",
       "    <tr>\n",
       "      <th>1497720</th>\n",
       "      <td>9781279</td>\n",
       "      <td>2014-09-05 12:36:18.288000+00:00</td>\n",
       "      <td>214587193</td>\n",
       "    </tr>\n",
       "    <tr>\n",
       "      <th>1497721</th>\n",
       "      <td>9781279</td>\n",
       "      <td>2014-09-05 12:36:29.075000+00:00</td>\n",
       "      <td>214834978</td>\n",
       "    </tr>\n",
       "    <tr>\n",
       "      <th>1497722</th>\n",
       "      <td>9781279</td>\n",
       "      <td>2014-09-05 12:37:59.583000+00:00</td>\n",
       "      <td>214684755</td>\n",
       "    </tr>\n",
       "    <tr>\n",
       "      <th>...</th>\n",
       "      <td>...</td>\n",
       "      <td>...</td>\n",
       "      <td>...</td>\n",
       "    </tr>\n",
       "    <tr>\n",
       "      <th>1497913</th>\n",
       "      <td>9781279</td>\n",
       "      <td>2014-09-05 15:48:45.346000+00:00</td>\n",
       "      <td>214565557</td>\n",
       "    </tr>\n",
       "    <tr>\n",
       "      <th>1497914</th>\n",
       "      <td>9781279</td>\n",
       "      <td>2014-09-05 15:48:55.612000+00:00</td>\n",
       "      <td>214585406</td>\n",
       "    </tr>\n",
       "    <tr>\n",
       "      <th>1497915</th>\n",
       "      <td>9781279</td>\n",
       "      <td>2014-09-05 15:49:06.494000+00:00</td>\n",
       "      <td>214581444</td>\n",
       "    </tr>\n",
       "    <tr>\n",
       "      <th>1497916</th>\n",
       "      <td>9781279</td>\n",
       "      <td>2014-09-05 15:49:08.383000+00:00</td>\n",
       "      <td>214565535</td>\n",
       "    </tr>\n",
       "    <tr>\n",
       "      <th>1497917</th>\n",
       "      <td>9781279</td>\n",
       "      <td>2014-09-05 15:49:54.401000+00:00</td>\n",
       "      <td>214532113</td>\n",
       "    </tr>\n",
       "  </tbody>\n",
       "</table>\n",
       "<p>200 rows × 3 columns</p>\n",
       "</div>"
      ],
      "text/plain": [
       "         SessionId                             Time     ItemId\n",
       "1497718    9781279 2014-09-05 12:36:09.590000+00:00  214534211\n",
       "1497719    9781279 2014-09-05 12:36:14.493000+00:00  214680463\n",
       "1497720    9781279 2014-09-05 12:36:18.288000+00:00  214587193\n",
       "1497721    9781279 2014-09-05 12:36:29.075000+00:00  214834978\n",
       "1497722    9781279 2014-09-05 12:37:59.583000+00:00  214684755\n",
       "...            ...                              ...        ...\n",
       "1497913    9781279 2014-09-05 15:48:45.346000+00:00  214565557\n",
       "1497914    9781279 2014-09-05 15:48:55.612000+00:00  214585406\n",
       "1497915    9781279 2014-09-05 15:49:06.494000+00:00  214581444\n",
       "1497916    9781279 2014-09-05 15:49:08.383000+00:00  214565535\n",
       "1497917    9781279 2014-09-05 15:49:54.401000+00:00  214532113\n",
       "\n",
       "[200 rows x 3 columns]"
      ]
     },
     "execution_count": 20,
     "metadata": {},
     "output_type": "execute_result"
    }
   ],
   "source": [
    "long_session = session_length[session_length==200].index[0]\n",
    "data[data['SessionId']==long_session]"
   ]
  },
  {
   "cell_type": "code",
   "execution_count": 21,
   "id": "feccbd72-decf-4e87-8840-7c899fcd5058",
   "metadata": {},
   "outputs": [
    {
     "data": {
      "text/plain": [
       "1     0.220500\n",
       "2     0.556013\n",
       "3     0.708616\n",
       "4     0.802125\n",
       "5     0.856219\n",
       "6     0.894427\n",
       "7     0.918897\n",
       "8     0.937228\n",
       "9     0.949918\n",
       "10    0.959849\n",
       "11    0.967048\n",
       "12    0.972919\n",
       "13    0.977373\n",
       "14    0.981030\n",
       "15    0.983903\n",
       "16    0.986304\n",
       "17    0.988186\n",
       "18    0.989821\n",
       "19    0.991083\n",
       "20    0.992187\n",
       "21    0.993125\n",
       "22    0.993929\n",
       "23    0.994665\n",
       "24    0.995272\n",
       "25    0.995760\n",
       "26    0.996192\n",
       "27    0.996590\n",
       "28    0.996934\n",
       "29    0.997228\n",
       "30    0.997495\n",
       "31    0.997723\n",
       "32    0.997937\n",
       "33    0.998112\n",
       "34    0.998264\n",
       "35    0.998401\n",
       "36    0.998541\n",
       "37    0.998655\n",
       "38    0.998757\n",
       "39    0.998857\n",
       "40    0.998944\n",
       "dtype: float64"
      ]
     },
     "execution_count": 21,
     "metadata": {},
     "output_type": "execute_result"
    }
   ],
   "source": [
    "length_count = session_length.groupby(session_length).size()\n",
    "length_percent_cumsum = length_count.cumsum() / length_count.sum()\n",
    "length_percent_cumsum_999 = length_percent_cumsum[length_percent_cumsum < 0.999]\n",
    "\n",
    "length_percent_cumsum_999"
   ]
  },
  {
   "cell_type": "code",
   "execution_count": 22,
   "id": "93ec61cd-fa0d-4417-8ed4-89fd5e3d951d",
   "metadata": {},
   "outputs": [
    {
     "data": {
      "image/png": "[encoded data removed]",
      "text/plain": [
       "<Figure size 1200x1000 with 1 Axes>"
      ]
     },
     "metadata": {},
     "output_type": "display_data"
    }
   ],
   "source": [
    "import matplotlib.pyplot as plt\n",
    "\n",
    "plt.figure(figsize=(12, 10))\n",
    "plt.bar(x=length_percent_cumsum_999.index,\n",
    "        height=length_percent_cumsum_999, color='red')\n",
    "plt.xticks(length_percent_cumsum_999.index)\n",
    "plt.yticks(np.arange(0, 1.01, 0.05))\n",
    "plt.title('Cumsum Percentage Until 0.999', size=20)\n",
    "plt.show()"
   ]
  },
  {
   "cell_type": "markdown",
   "id": "89606fb5-aedf-4fe0-b894-a7eccea1ab60",
   "metadata": {},
   "source": [
    "### Session Time"
   ]
  },
  {
   "cell_type": "code",
   "execution_count": 23,
   "id": "33ddf3b7-d0af-474b-9f39-dcc9874b5ed8",
   "metadata": {},
   "outputs": [
    {
     "name": "stdout",
     "output_type": "stream",
     "text": [
      "2014-08-31 03:00:01.111000+00:00\n",
      "2014-09-30 02:59:59.430000+00:00\n"
     ]
    }
   ],
   "source": [
    "oldest, latest = data['Time'].min(), data['Time'].max()\n",
    "print(oldest)\n",
    "print(latest)"
   ]
  },
  {
   "cell_type": "code",
   "execution_count": 24,
   "id": "e2568029-33d4-4a78-9511-593cc876ec5d",
   "metadata": {},
   "outputs": [
    {
     "data": {
      "text/plain": [
       "pandas._libs.tslibs.timestamps.Timestamp"
      ]
     },
     "execution_count": 24,
     "metadata": {},
     "output_type": "execute_result"
    }
   ],
   "source": [
    "type(latest)\n",
    "# latest는 Timestamp 객체이기 때문에 int 객체와의 사칙연산을 지원하지 않는다.\n",
    "# 날짜끼리의 차이를 구하고 싶을 때는 datetime 라이브러리의 timedelta 객체를 사용"
   ]
  },
  {
   "cell_type": "code",
   "execution_count": 25,
   "id": "faab11e0-9784-4f0b-8a90-61a542d5b02e",
   "metadata": {},
   "outputs": [
    {
     "data": {
      "text/html": [
       "<div>\n",
       "<style scoped>\n",
       "    .dataframe tbody tr th:only-of-type {\n",
       "        vertical-align: middle;\n",
       "    }\n",
       "\n",
       "    .dataframe tbody tr th {\n",
       "        vertical-align: top;\n",
       "    }\n",
       "\n",
       "    .dataframe thead th {\n",
       "        text-align: right;\n",
       "    }\n",
       "</style>\n",
       "<table border=\"1\" class=\"dataframe\">\n",
       "  <thead>\n",
       "    <tr style=\"text-align: right;\">\n",
       "      <th></th>\n",
       "      <th>SessionId</th>\n",
       "      <th>Time</th>\n",
       "      <th>ItemId</th>\n",
       "    </tr>\n",
       "  </thead>\n",
       "  <tbody>\n",
       "    <tr>\n",
       "      <th>126221</th>\n",
       "      <td>9194111</td>\n",
       "      <td>2014-08-31 17:40:46.805000+00:00</td>\n",
       "      <td>214853420</td>\n",
       "    </tr>\n",
       "    <tr>\n",
       "      <th>126222</th>\n",
       "      <td>9194111</td>\n",
       "      <td>2014-08-31 17:42:26.089000+00:00</td>\n",
       "      <td>214850942</td>\n",
       "    </tr>\n",
       "    <tr>\n",
       "      <th>126223</th>\n",
       "      <td>9194111</td>\n",
       "      <td>2014-08-31 17:44:06.583000+00:00</td>\n",
       "      <td>214829878</td>\n",
       "    </tr>\n",
       "    <tr>\n",
       "      <th>126224</th>\n",
       "      <td>9194111</td>\n",
       "      <td>2014-08-31 17:48:49.873000+00:00</td>\n",
       "      <td>214853420</td>\n",
       "    </tr>\n",
       "    <tr>\n",
       "      <th>126317</th>\n",
       "      <td>9194112</td>\n",
       "      <td>2014-09-01 13:26:36.292000+00:00</td>\n",
       "      <td>214853422</td>\n",
       "    </tr>\n",
       "    <tr>\n",
       "      <th>...</th>\n",
       "      <td>...</td>\n",
       "      <td>...</td>\n",
       "      <td>...</td>\n",
       "    </tr>\n",
       "    <tr>\n",
       "      <th>4867944</th>\n",
       "      <td>11562158</td>\n",
       "      <td>2014-09-26 04:50:29.172000+00:00</td>\n",
       "      <td>214849132</td>\n",
       "    </tr>\n",
       "    <tr>\n",
       "      <th>4867945</th>\n",
       "      <td>11562158</td>\n",
       "      <td>2014-09-26 04:52:21.900000+00:00</td>\n",
       "      <td>214854774</td>\n",
       "    </tr>\n",
       "    <tr>\n",
       "      <th>4867946</th>\n",
       "      <td>11562158</td>\n",
       "      <td>2014-09-26 05:16:32.904000+00:00</td>\n",
       "      <td>214849132</td>\n",
       "    </tr>\n",
       "    <tr>\n",
       "      <th>4867947</th>\n",
       "      <td>11562159</td>\n",
       "      <td>2014-09-26 19:16:28.897000+00:00</td>\n",
       "      <td>214849132</td>\n",
       "    </tr>\n",
       "    <tr>\n",
       "      <th>4867934</th>\n",
       "      <td>11562161</td>\n",
       "      <td>2014-09-26 20:45:42.791000+00:00</td>\n",
       "      <td>214546022</td>\n",
       "    </tr>\n",
       "  </tbody>\n",
       "</table>\n",
       "<p>5641401 rows × 3 columns</p>\n",
       "</div>"
      ],
      "text/plain": [
       "         SessionId                             Time     ItemId\n",
       "126221     9194111 2014-08-31 17:40:46.805000+00:00  214853420\n",
       "126222     9194111 2014-08-31 17:42:26.089000+00:00  214850942\n",
       "126223     9194111 2014-08-31 17:44:06.583000+00:00  214829878\n",
       "126224     9194111 2014-08-31 17:48:49.873000+00:00  214853420\n",
       "126317     9194112 2014-09-01 13:26:36.292000+00:00  214853422\n",
       "...            ...                              ...        ...\n",
       "4867944   11562158 2014-09-26 04:50:29.172000+00:00  214849132\n",
       "4867945   11562158 2014-09-26 04:52:21.900000+00:00  214854774\n",
       "4867946   11562158 2014-09-26 05:16:32.904000+00:00  214849132\n",
       "4867947   11562159 2014-09-26 19:16:28.897000+00:00  214849132\n",
       "4867934   11562161 2014-09-26 20:45:42.791000+00:00  214546022\n",
       "\n",
       "[5641401 rows x 3 columns]"
      ]
     },
     "execution_count": 25,
     "metadata": {},
     "output_type": "execute_result"
    }
   ],
   "source": [
    "month_ago = latest - dt.timedelta(30)     # 최종 날짜로부터 30일 이전 날짜를 구한다.  \n",
    "data = data[data['Time'] > month_ago]   # 방금 구한 날짜 이후의 데이터만 모은다. \n",
    "data # 한 달 치 데이터 "
   ]
  },
  {
   "cell_type": "markdown",
   "id": "926a501b-afe9-4a8a-97fb-1e8a6d964838",
   "metadata": {},
   "source": [
    "### Data Cleansing 데이터 정제\n",
    "- 한 세션에서 2번 이상 클릭안한 제품을 제거: 추천 정확도 향상\n",
    "- 전체에서 5번이상 클릭 안한 제품을 제거: 평가 기준 충족"
   ]
  },
  {
   "cell_type": "code",
   "execution_count": 26,
   "id": "6d3ac0d5-e86b-4cfe-83c5-bfadbd5450eb",
   "metadata": {},
   "outputs": [],
   "source": [
    "# short_session을 제거한 다음 unpopular item을 제거하면 다시 길이가 1인 session이 생김 \n",
    "# 이를 위해 반복문을 통해 지속적으로 제거\n",
    "\n",
    "# 전체 데이터 클렌징을 반복 수행하는 함수\n",
    "def cleanse_recursive(data: pd.DataFrame, shortest, least_click) -> pd.DataFrame:\n",
    "    while True:\n",
    "        before_len = len(data)\n",
    "        data = cleanse_short_session(data, shortest)\n",
    "        data = cleanse_unpopular_item(data, least_click)\n",
    "        after_len = len(data)\n",
    "        if before_len == after_len:\n",
    "            break\n",
    "    return data\n",
    "\n",
    "\n",
    "# 너무 짧은 세션 제거\n",
    "def cleanse_short_session(data: pd.DataFrame, shortest):\n",
    "    session_len = data.groupby('SessionId').size()\n",
    "    session_use = session_len[session_len >= shortest].index\n",
    "    data = data[data['SessionId'].isin(session_use)]\n",
    "    return data\n",
    "\n",
    "\n",
    "# 너무 적게 클릭된 아이템 제거\n",
    "def cleanse_unpopular_item(data: pd.DataFrame, least_click):\n",
    "    item_popular = data.groupby('ItemId').size()\n",
    "    item_use = item_popular[item_popular >= least_click].index\n",
    "    data = data[data['ItemId'].isin(item_use)]\n",
    "    return data"
   ]
  },
  {
   "cell_type": "code",
   "execution_count": 27,
   "id": "0c4b87f9-87d8-42e2-a8b8-e316e019608c",
   "metadata": {},
   "outputs": [
    {
     "data": {
      "text/html": [
       "<div>\n",
       "<style scoped>\n",
       "    .dataframe tbody tr th:only-of-type {\n",
       "        vertical-align: middle;\n",
       "    }\n",
       "\n",
       "    .dataframe tbody tr th {\n",
       "        vertical-align: top;\n",
       "    }\n",
       "\n",
       "    .dataframe thead th {\n",
       "        text-align: right;\n",
       "    }\n",
       "</style>\n",
       "<table border=\"1\" class=\"dataframe\">\n",
       "  <thead>\n",
       "    <tr style=\"text-align: right;\">\n",
       "      <th></th>\n",
       "      <th>SessionId</th>\n",
       "      <th>Time</th>\n",
       "      <th>ItemId</th>\n",
       "    </tr>\n",
       "  </thead>\n",
       "  <tbody>\n",
       "    <tr>\n",
       "      <th>126221</th>\n",
       "      <td>9194111</td>\n",
       "      <td>2014-08-31 17:40:46.805000+00:00</td>\n",
       "      <td>214853420</td>\n",
       "    </tr>\n",
       "    <tr>\n",
       "      <th>126222</th>\n",
       "      <td>9194111</td>\n",
       "      <td>2014-08-31 17:42:26.089000+00:00</td>\n",
       "      <td>214850942</td>\n",
       "    </tr>\n",
       "    <tr>\n",
       "      <th>126223</th>\n",
       "      <td>9194111</td>\n",
       "      <td>2014-08-31 17:44:06.583000+00:00</td>\n",
       "      <td>214829878</td>\n",
       "    </tr>\n",
       "    <tr>\n",
       "      <th>126224</th>\n",
       "      <td>9194111</td>\n",
       "      <td>2014-08-31 17:48:49.873000+00:00</td>\n",
       "      <td>214853420</td>\n",
       "    </tr>\n",
       "    <tr>\n",
       "      <th>126314</th>\n",
       "      <td>9194123</td>\n",
       "      <td>2014-08-31 19:26:57.386000+00:00</td>\n",
       "      <td>214601207</td>\n",
       "    </tr>\n",
       "    <tr>\n",
       "      <th>...</th>\n",
       "      <td>...</td>\n",
       "      <td>...</td>\n",
       "      <td>...</td>\n",
       "    </tr>\n",
       "    <tr>\n",
       "      <th>4867942</th>\n",
       "      <td>11562157</td>\n",
       "      <td>2014-09-25 12:31:10.391000+00:00</td>\n",
       "      <td>214580372</td>\n",
       "    </tr>\n",
       "    <tr>\n",
       "      <th>4867943</th>\n",
       "      <td>11562157</td>\n",
       "      <td>2014-09-25 12:31:29.679000+00:00</td>\n",
       "      <td>214516012</td>\n",
       "    </tr>\n",
       "    <tr>\n",
       "      <th>4867944</th>\n",
       "      <td>11562158</td>\n",
       "      <td>2014-09-26 04:50:29.172000+00:00</td>\n",
       "      <td>214849132</td>\n",
       "    </tr>\n",
       "    <tr>\n",
       "      <th>4867945</th>\n",
       "      <td>11562158</td>\n",
       "      <td>2014-09-26 04:52:21.900000+00:00</td>\n",
       "      <td>214854774</td>\n",
       "    </tr>\n",
       "    <tr>\n",
       "      <th>4867946</th>\n",
       "      <td>11562158</td>\n",
       "      <td>2014-09-26 05:16:32.904000+00:00</td>\n",
       "      <td>214849132</td>\n",
       "    </tr>\n",
       "  </tbody>\n",
       "</table>\n",
       "<p>5254242 rows × 3 columns</p>\n",
       "</div>"
      ],
      "text/plain": [
       "         SessionId                             Time     ItemId\n",
       "126221     9194111 2014-08-31 17:40:46.805000+00:00  214853420\n",
       "126222     9194111 2014-08-31 17:42:26.089000+00:00  214850942\n",
       "126223     9194111 2014-08-31 17:44:06.583000+00:00  214829878\n",
       "126224     9194111 2014-08-31 17:48:49.873000+00:00  214853420\n",
       "126314     9194123 2014-08-31 19:26:57.386000+00:00  214601207\n",
       "...            ...                              ...        ...\n",
       "4867942   11562157 2014-09-25 12:31:10.391000+00:00  214580372\n",
       "4867943   11562157 2014-09-25 12:31:29.679000+00:00  214516012\n",
       "4867944   11562158 2014-09-26 04:50:29.172000+00:00  214849132\n",
       "4867945   11562158 2014-09-26 04:52:21.900000+00:00  214854774\n",
       "4867946   11562158 2014-09-26 05:16:32.904000+00:00  214849132\n",
       "\n",
       "[5254242 rows x 3 columns]"
      ]
     },
     "execution_count": 27,
     "metadata": {},
     "output_type": "execute_result"
    }
   ],
   "source": [
    "data = cleanse_recursive(data, shortest=2, least_click=5)\n",
    "data"
   ]
  },
  {
   "cell_type": "markdown",
   "id": "b64ca25f-c797-4473-9ed2-398ff8fb2306",
   "metadata": {},
   "source": [
    "### Train / Valid / Test split"
   ]
  },
  {
   "cell_type": "code",
   "execution_count": 28,
   "id": "5c4973cc-9e4c-4c87-97da-b4d574c24f06",
   "metadata": {},
   "outputs": [],
   "source": [
    "def split_by_date(data: pd.DataFrame, n_days: int):\n",
    "    final_time = data['Time'].max()\n",
    "    session_last_time = data.groupby('SessionId')['Time'].max()\n",
    "    session_in_train = session_last_time[session_last_time < final_time - dt.timedelta(n_days)].index\n",
    "    session_in_test = session_last_time[session_last_time >= final_time - dt.timedelta(n_days)].index\n",
    "\n",
    "    before_date = data[data['SessionId'].isin(session_in_train)]\n",
    "    after_date = data[data['SessionId'].isin(session_in_test)]\n",
    "    after_date = after_date[after_date['ItemId'].isin(before_date['ItemId'])]\n",
    "    return before_date, after_date"
   ]
  },
  {
   "cell_type": "code",
   "execution_count": 29,
   "id": "acd5dbd4-b6f6-4057-b11f-161367ecc63e",
   "metadata": {},
   "outputs": [],
   "source": [
    "tr, test = split_by_date(data, n_days=1)\n",
    "tr, val = split_by_date(tr, n_days=1)"
   ]
  },
  {
   "cell_type": "code",
   "execution_count": 30,
   "id": "6cc6b10a-5b20-4fe9-b283-397f42e5a4fd",
   "metadata": {},
   "outputs": [],
   "source": [
    "# 정보 확인하는 함수\n",
    "def stats_info(data: pd.DataFrame, status: str): \n",
    "    print(f'* {status} Set Stats Info\\n'\n",
    "          f'\\t Events: {len(data)}\\n'\n",
    "          f'\\t Sessions: {data[\"SessionId\"].nunique()}\\n'\n",
    "          f'\\t Items: {data[\"ItemId\"].nunique()}\\n'\n",
    "          f'\\t First Time : {data[\"Time\"].min()}\\n'\n",
    "          f'\\t Last Time : {data[\"Time\"].max()}\\n')"
   ]
  },
  {
   "cell_type": "code",
   "execution_count": 31,
   "id": "863ba557-3b09-4828-a27e-b3e486a26820",
   "metadata": {},
   "outputs": [
    {
     "name": "stdout",
     "output_type": "stream",
     "text": [
      "* train Set Stats Info\n",
      "\t Events: 5125100\n",
      "\t Sessions: 1243431\n",
      "\t Items: 20153\n",
      "\t First Time : 2014-08-31 03:00:01.111000+00:00\n",
      "\t Last Time : 2014-09-28 02:57:34.348000+00:00\n",
      "\n",
      "* valid Set Stats Info\n",
      "\t Events: 58074\n",
      "\t Sessions: 12350\n",
      "\t Items: 6232\n",
      "\t First Time : 2014-09-28 03:00:25.298000+00:00\n",
      "\t Last Time : 2014-09-29 02:58:27.660000+00:00\n",
      "\n",
      "* test Set Stats Info\n",
      "\t Events: 71009\n",
      "\t Sessions: 15289\n",
      "\t Items: 6580\n",
      "\t First Time : 2014-09-29 02:37:20.695000+00:00\n",
      "\t Last Time : 2014-09-30 02:59:59.430000+00:00\n",
      "\n"
     ]
    }
   ],
   "source": [
    "stats_info(tr, 'train')\n",
    "stats_info(val, 'valid')\n",
    "stats_info(test, 'test')"
   ]
  },
  {
   "attachments": {
    "dd489b6d-028c-4ea8-8c06-65a729b2ff7c.png": {
     "image/png": "[encoded data removed]"
    }
   },
   "cell_type": "markdown",
   "id": "88f6ad5b-4d30-40b7-a28e-96523bf86097",
   "metadata": {},
   "source": [
    "![image.png](attachment:dd489b6d-028c-4ea8-8c06-65a729b2ff7c.png)"
   ]
  },
  {
   "cell_type": "code",
   "execution_count": 32,
   "id": "1a868136-0e6e-4fcc-9ec8-7f7a9cb53361",
   "metadata": {},
   "outputs": [],
   "source": [
    "def split_by_date(data: pd.DataFrame, n_days: int):\n",
    "    final_time = data['Time'].max()\n",
    "    session_last_time = data.groupby('SessionId')['Time'].max()\n",
    "    session_in_train = session_last_time[session_last_time < final_time - dt.timedelta(n_days)].index\n",
    "    session_in_test = session_last_time[session_last_time >= final_time - dt.timedelta(n_days)].index\n",
    "\n",
    "    before_date = data[data['SessionId'].isin(session_in_train)]\n",
    "    after_date = data[data['SessionId'].isin(session_in_test)]\n",
    "    after_date = after_date[after_date['ItemId'].isin(before_date['ItemId'])]\n",
    "    return before_date, after_date"
   ]
  },
  {
   "cell_type": "code",
   "execution_count": 33,
   "id": "b1e035da-d539-48c6-acd8-8ab6d289297d",
   "metadata": {},
   "outputs": [],
   "source": [
    "tr, test = split_by_date(data, n_days=1)\n",
    "tr, val = split_by_date(tr, n_days=1)"
   ]
  },
  {
   "cell_type": "code",
   "execution_count": 35,
   "id": "522e44a3-189f-40ca-9961-29403a2685d0",
   "metadata": {},
   "outputs": [],
   "source": [
    "# data에 대한 정보를 살펴본다.\n",
    "def stats_info(data: pd.DataFrame, status: str):\n",
    "    print(f'* {status} Set Stats Info\\n'\n",
    "          f'\\t Events: {len(data)}\\n'\n",
    "          f'\\t Sessions: {data[\"SessionId\"].nunique()}\\n'\n",
    "          f'\\t Items: {data[\"ItemId\"].nunique()}\\n'\n",
    "          f'\\t First Time : {data[\"Time\"].min()}\\n'\n",
    "          f'\\t Last Time : {data[\"Time\"].max()}\\n')"
   ]
  },
  {
   "cell_type": "code",
   "execution_count": 36,
   "id": "8257a18a-da17-4161-858a-19533483897c",
   "metadata": {},
   "outputs": [
    {
     "name": "stdout",
     "output_type": "stream",
     "text": [
      "* train Set Stats Info\n",
      "\t Events: 5125100\n",
      "\t Sessions: 1243431\n",
      "\t Items: 20153\n",
      "\t First Time : 2014-08-31 03:00:01.111000+00:00\n",
      "\t Last Time : 2014-09-28 02:57:34.348000+00:00\n",
      "\n",
      "* valid Set Stats Info\n",
      "\t Events: 58074\n",
      "\t Sessions: 12350\n",
      "\t Items: 6232\n",
      "\t First Time : 2014-09-28 03:00:25.298000+00:00\n",
      "\t Last Time : 2014-09-29 02:58:27.660000+00:00\n",
      "\n",
      "* test Set Stats Info\n",
      "\t Events: 71009\n",
      "\t Sessions: 15289\n",
      "\t Items: 6580\n",
      "\t First Time : 2014-09-29 02:37:20.695000+00:00\n",
      "\t Last Time : 2014-09-30 02:59:59.430000+00:00\n",
      "\n"
     ]
    }
   ],
   "source": [
    "stats_info(tr, 'train')\n",
    "stats_info(val, 'valid')\n",
    "stats_info(test, 'test')"
   ]
  },
  {
   "cell_type": "code",
   "execution_count": 38,
   "id": "932b1213-c0db-451e-b12a-ecd0415a1219",
   "metadata": {},
   "outputs": [],
   "source": [
    "# train set에 없는 아이템이 val, test기간에 생길 수 있으므로 train data를 기준으로 인덱싱\n",
    "id2idx = {item_id : index for index, item_id in enumerate(tr['ItemId'].unique())}\n",
    "\n",
    "def indexing(df, id2idx):\n",
    "    df['item_idx'] = df['ItemId'].map(lambda x: id2idx.get(x, -1))  # id2idx에 없는 아이템은 모르는 값(-1) 처리 해준다. \n",
    "    return df\n",
    "\n",
    "tr = indexing(tr, id2idx)\n",
    "val = indexing(val, id2idx)\n",
    "test = indexing(test, id2idx)"
   ]
  },
  {
   "cell_type": "code",
   "execution_count": 40,
   "id": "1535c31e-336c-4cf8-b65d-0b5c19e6530c",
   "metadata": {},
   "outputs": [],
   "source": [
    "save_path = Path('./processed')\n",
    "save_path.mkdir(parents=True, exist_ok=True)\n",
    "\n",
    "tr.to_pickle(save_path / 'train.pkl')\n",
    "val.to_pickle(save_path / 'valid.pkl')\n",
    "test.to_pickle(save_path / 'test.pkl')"
   ]
  },
  {
   "cell_type": "markdown",
   "id": "eb79ef90-8c03-48d7-89a2-db09f26e2d27",
   "metadata": {},
   "source": [
    "## Data Pipeline"
   ]
  },
  {
   "cell_type": "markdown",
   "id": "5bfaaa8e-0e79-40d5-bfbd-2e8e6a577964",
   "metadata": {},
   "source": [
    "### SessionDataset"
   ]
  },
  {
   "cell_type": "markdown",
   "id": "b7cdc220-52a5-4fb3-bfc2-84793ca9fe57",
   "metadata": {},
   "source": [
    "train데이터로 SessionDataset 객체를 만들고 인스턴스 변수들을 살펴보자.  \n",
    "click_offsets 변수는 각 세션이 시작된 인덱스를 담고 있다.  \n",
    "session_idx 변수는 각 세션을 인덱싱한 np.array이다.  "
   ]
  },
  {
   "cell_type": "code",
   "execution_count": 41,
   "id": "710d2b84-83b6-42b0-8ad1-6e7af85a7225",
   "metadata": {},
   "outputs": [],
   "source": [
    "class SessionDataset:\n",
    "    \"\"\"Credit to yhs-968/pyGRU4REC.\"\"\"\n",
    "\n",
    "    def __init__(self, data):\n",
    "        self.df = data\n",
    "        self.click_offsets = self.get_click_offsets()\n",
    "        self.session_idx = np.arange(self.df['SessionId'].nunique())  # indexing to SessionId\n",
    "\n",
    "    def get_click_offsets(self):\n",
    "        \"\"\"\n",
    "        Return the indexes of the first click of each session IDs,\n",
    "        \"\"\"\n",
    "        offsets = np.zeros(self.df['SessionId'].nunique() + 1, dtype=np.int32)\n",
    "        offsets[1:] = self.df.groupby('SessionId').size().cumsum()\n",
    "        return offsets"
   ]
  },
  {
   "cell_type": "code",
   "execution_count": 42,
   "id": "7598548a-b201-4113-ba33-b5c73bfa730b",
   "metadata": {},
   "outputs": [
    {
     "data": {
      "text/html": [
       "<div>\n",
       "<style scoped>\n",
       "    .dataframe tbody tr th:only-of-type {\n",
       "        vertical-align: middle;\n",
       "    }\n",
       "\n",
       "    .dataframe tbody tr th {\n",
       "        vertical-align: top;\n",
       "    }\n",
       "\n",
       "    .dataframe thead th {\n",
       "        text-align: right;\n",
       "    }\n",
       "</style>\n",
       "<table border=\"1\" class=\"dataframe\">\n",
       "  <thead>\n",
       "    <tr style=\"text-align: right;\">\n",
       "      <th></th>\n",
       "      <th>SessionId</th>\n",
       "      <th>Time</th>\n",
       "      <th>ItemId</th>\n",
       "      <th>item_idx</th>\n",
       "    </tr>\n",
       "  </thead>\n",
       "  <tbody>\n",
       "    <tr>\n",
       "      <th>126221</th>\n",
       "      <td>9194111</td>\n",
       "      <td>2014-08-31 17:40:46.805000+00:00</td>\n",
       "      <td>214853420</td>\n",
       "      <td>0</td>\n",
       "    </tr>\n",
       "    <tr>\n",
       "      <th>126222</th>\n",
       "      <td>9194111</td>\n",
       "      <td>2014-08-31 17:42:26.089000+00:00</td>\n",
       "      <td>214850942</td>\n",
       "      <td>1</td>\n",
       "    </tr>\n",
       "    <tr>\n",
       "      <th>126223</th>\n",
       "      <td>9194111</td>\n",
       "      <td>2014-08-31 17:44:06.583000+00:00</td>\n",
       "      <td>214829878</td>\n",
       "      <td>2</td>\n",
       "    </tr>\n",
       "    <tr>\n",
       "      <th>126224</th>\n",
       "      <td>9194111</td>\n",
       "      <td>2014-08-31 17:48:49.873000+00:00</td>\n",
       "      <td>214853420</td>\n",
       "      <td>0</td>\n",
       "    </tr>\n",
       "    <tr>\n",
       "      <th>126314</th>\n",
       "      <td>9194123</td>\n",
       "      <td>2014-08-31 19:26:57.386000+00:00</td>\n",
       "      <td>214601207</td>\n",
       "      <td>3</td>\n",
       "    </tr>\n",
       "    <tr>\n",
       "      <th>126315</th>\n",
       "      <td>9194123</td>\n",
       "      <td>2014-08-31 19:34:37.068000+00:00</td>\n",
       "      <td>214510689</td>\n",
       "      <td>4</td>\n",
       "    </tr>\n",
       "    <tr>\n",
       "      <th>126308</th>\n",
       "      <td>9194124</td>\n",
       "      <td>2014-08-31 19:14:28.308000+00:00</td>\n",
       "      <td>214849327</td>\n",
       "      <td>5</td>\n",
       "    </tr>\n",
       "    <tr>\n",
       "      <th>126309</th>\n",
       "      <td>9194124</td>\n",
       "      <td>2014-08-31 19:16:31.114000+00:00</td>\n",
       "      <td>214828970</td>\n",
       "      <td>6</td>\n",
       "    </tr>\n",
       "    <tr>\n",
       "      <th>126311</th>\n",
       "      <td>9194127</td>\n",
       "      <td>2014-09-01 15:36:11.651000+00:00</td>\n",
       "      <td>214845997</td>\n",
       "      <td>7</td>\n",
       "    </tr>\n",
       "    <tr>\n",
       "      <th>126312</th>\n",
       "      <td>9194127</td>\n",
       "      <td>2014-09-01 15:38:00.222000+00:00</td>\n",
       "      <td>214845997</td>\n",
       "      <td>7</td>\n",
       "    </tr>\n",
       "  </tbody>\n",
       "</table>\n",
       "</div>"
      ],
      "text/plain": [
       "        SessionId                             Time     ItemId  item_idx\n",
       "126221    9194111 2014-08-31 17:40:46.805000+00:00  214853420         0\n",
       "126222    9194111 2014-08-31 17:42:26.089000+00:00  214850942         1\n",
       "126223    9194111 2014-08-31 17:44:06.583000+00:00  214829878         2\n",
       "126224    9194111 2014-08-31 17:48:49.873000+00:00  214853420         0\n",
       "126314    9194123 2014-08-31 19:26:57.386000+00:00  214601207         3\n",
       "126315    9194123 2014-08-31 19:34:37.068000+00:00  214510689         4\n",
       "126308    9194124 2014-08-31 19:14:28.308000+00:00  214849327         5\n",
       "126309    9194124 2014-08-31 19:16:31.114000+00:00  214828970         6\n",
       "126311    9194127 2014-09-01 15:36:11.651000+00:00  214845997         7\n",
       "126312    9194127 2014-09-01 15:38:00.222000+00:00  214845997         7"
      ]
     },
     "execution_count": 42,
     "metadata": {},
     "output_type": "execute_result"
    }
   ],
   "source": [
    "tr_dataset = SessionDataset(tr)\n",
    "tr_dataset.df.head(10)"
   ]
  },
  {
   "cell_type": "code",
   "execution_count": 43,
   "id": "3056d8f9-5959-451b-9d8f-94edcfca5690",
   "metadata": {},
   "outputs": [
    {
     "data": {
      "text/plain": [
       "array([      0,       4,       6, ..., 5125095, 5125097, 5125100])"
      ]
     },
     "execution_count": 43,
     "metadata": {},
     "output_type": "execute_result"
    }
   ],
   "source": [
    "tr_dataset.click_offsets"
   ]
  },
  {
   "cell_type": "code",
   "execution_count": 44,
   "id": "8b82f982-133a-41ae-9e43-4aefedd2df86",
   "metadata": {},
   "outputs": [
    {
     "data": {
      "text/plain": [
       "array([      0,       1,       2, ..., 1243428, 1243429, 1243430])"
      ]
     },
     "execution_count": 44,
     "metadata": {},
     "output_type": "execute_result"
    }
   ],
   "source": [
    "tr_dataset.session_idx"
   ]
  },
  {
   "cell_type": "markdown",
   "id": "3f8d2693-a956-469c-9ea5-49a81b67c916",
   "metadata": {},
   "source": [
    "### SessionDataLoader"
   ]
  },
  {
   "cell_type": "markdown",
   "id": "44f9e2ff-7db7-4c01-9b31-84a04f855b3e",
   "metadata": {},
   "source": [
    "`SessionDataset` 객체를 받아서 Session-Parallel mini-batch를 만드는 클래스를 만든다.  \n",
    "`__iter__` 메서드는 모델 인풋, 라벨, 세션이 끝나는 곳의 위치를 `yield`한다.  \n",
    "mask는 후에 RNN Cell State를 초기화하는데 사용한다.  "
   ]
  },
  {
   "cell_type": "code",
   "execution_count": 45,
   "id": "887a4e41-fe20-460c-a5e5-3c1e49d258a6",
   "metadata": {},
   "outputs": [],
   "source": [
    "class SessionDataLoader:\n",
    "    \"\"\"Credit to yhs-968/pyGRU4REC.\"\"\"\n",
    "\n",
    "    def __init__(self, dataset: SessionDataset, batch_size=50):\n",
    "        self.dataset = dataset\n",
    "        self.batch_size = batch_size\n",
    "\n",
    "    def __iter__(self):\n",
    "        \"\"\" Returns the iterator for producing session-parallel training mini-batches.\n",
    "        Yields:\n",
    "            input (B,):  Item indices that will be encoded as one-hot vectors later.\n",
    "            target (B,): a Variable that stores the target item indices\n",
    "            masks: Numpy array indicating the positions of the sessions to be terminated\n",
    "        \"\"\"\n",
    "\n",
    "        start, end, mask, last_session, finished = self.initialize()  # initialize 메소드에서 확인\n",
    "        \"\"\"\n",
    "        start : Index Where Session Start\n",
    "        end : Index Where Session End\n",
    "        mask : indicator for the sessions to be terminated\n",
    "        \"\"\"\n",
    "\n",
    "        while not finished:\n",
    "            min_len = (end - start).min() - 1  # Shortest Length Among Sessions\n",
    "            for i in range(min_len):\n",
    "                # Build inputs & targets\n",
    "                inp = self.dataset.df['item_idx'].values[start + i]\n",
    "                target = self.dataset.df['item_idx'].values[start + i + 1]\n",
    "                yield inp, target, mask\n",
    "\n",
    "            start, end, mask, last_session, finished = self.update_status(start, end, min_len, last_session, finished)\n",
    "\n",
    "    def initialize(self):\n",
    "        first_iters = np.arange(self.batch_size)    # 첫 배치에 사용할 세션 Index를 가져온다.\n",
    "        last_session = self.batch_size - 1    # 마지막으로 다루고 있는 세션 Index를 저장해둔다.\n",
    "        start = self.dataset.click_offsets[self.dataset.session_idx[first_iters]]       # data 상에서 session이 시작된 위치를 가져온다.\n",
    "        end = self.dataset.click_offsets[self.dataset.session_idx[first_iters] + 1]  # session이 끝난 위치 바로 다음 위치를 가져온다.\n",
    "        mask = np.array([])   # session의 모든 아이템을 다 돌은 경우 mask에 추가해준다.\n",
    "        finished = False         # data를 전부 돌았는지 기록하기 위한 변수이다.\n",
    "        return start, end, mask, last_session, finished\n",
    "\n",
    "    def update_status(self, start: np.ndarray, end: np.ndarray, min_len: int, last_session: int, finished: bool):\n",
    "        # 다음 배치 데이터를 생성하기 위해 상태를 update한다.\n",
    "\n",
    "        start += min_len   # __iter__에서 min_len 만큼 for문을 돌았으므로 start를 min_len 만큼 더해준다.\n",
    "        mask = np.arange(self.batch_size)[(end - start) == 1]\n",
    "        # end는 다음 세션이 시작되는 위치인데 start와 한 칸 차이난다는 것은 session이 끝났다는 뜻입니다. mask에 기록해준다.\n",
    "\n",
    "        for i, idx in enumerate(mask, start=1):  # mask에 추가된 세션 개수만큼 새로운 세션을 둔다.\n",
    "            new_session = last_session + i\n",
    "            if new_session > self.dataset.session_idx[-1]:  # 만약 새로운 세션이 마지막 세션 index보다 크다면 모든 학습데이터를 돈다.\n",
    "                finished = True\n",
    "                break\n",
    "            # update the next starting/ending point\n",
    "            start[idx] = self.dataset.click_offsets[self.dataset.session_idx[new_session]]     # 종료된 세션 대신 새로운 세션의 시작점을 기록한다.\n",
    "            end[idx] = self.dataset.click_offsets[self.dataset.session_idx[new_session] + 1]\n",
    "\n",
    "        last_session += len(mask)  # 마지막 세션의 위치를 기록해둔다.\n",
    "        return start, end, mask, last_session, finished"
   ]
  },
  {
   "cell_type": "code",
   "execution_count": 46,
   "id": "2b92ccaf-c208-435d-ad1a-1623c27a610a",
   "metadata": {},
   "outputs": [
    {
     "data": {
      "text/html": [
       "<div>\n",
       "<style scoped>\n",
       "    .dataframe tbody tr th:only-of-type {\n",
       "        vertical-align: middle;\n",
       "    }\n",
       "\n",
       "    .dataframe tbody tr th {\n",
       "        vertical-align: top;\n",
       "    }\n",
       "\n",
       "    .dataframe thead th {\n",
       "        text-align: right;\n",
       "    }\n",
       "</style>\n",
       "<table border=\"1\" class=\"dataframe\">\n",
       "  <thead>\n",
       "    <tr style=\"text-align: right;\">\n",
       "      <th></th>\n",
       "      <th>SessionId</th>\n",
       "      <th>Time</th>\n",
       "      <th>ItemId</th>\n",
       "      <th>item_idx</th>\n",
       "    </tr>\n",
       "  </thead>\n",
       "  <tbody>\n",
       "    <tr>\n",
       "      <th>126221</th>\n",
       "      <td>9194111</td>\n",
       "      <td>2014-08-31 17:40:46.805000+00:00</td>\n",
       "      <td>214853420</td>\n",
       "      <td>0</td>\n",
       "    </tr>\n",
       "    <tr>\n",
       "      <th>126222</th>\n",
       "      <td>9194111</td>\n",
       "      <td>2014-08-31 17:42:26.089000+00:00</td>\n",
       "      <td>214850942</td>\n",
       "      <td>1</td>\n",
       "    </tr>\n",
       "    <tr>\n",
       "      <th>126223</th>\n",
       "      <td>9194111</td>\n",
       "      <td>2014-08-31 17:44:06.583000+00:00</td>\n",
       "      <td>214829878</td>\n",
       "      <td>2</td>\n",
       "    </tr>\n",
       "    <tr>\n",
       "      <th>126224</th>\n",
       "      <td>9194111</td>\n",
       "      <td>2014-08-31 17:48:49.873000+00:00</td>\n",
       "      <td>214853420</td>\n",
       "      <td>0</td>\n",
       "    </tr>\n",
       "    <tr>\n",
       "      <th>126314</th>\n",
       "      <td>9194123</td>\n",
       "      <td>2014-08-31 19:26:57.386000+00:00</td>\n",
       "      <td>214601207</td>\n",
       "      <td>3</td>\n",
       "    </tr>\n",
       "    <tr>\n",
       "      <th>126315</th>\n",
       "      <td>9194123</td>\n",
       "      <td>2014-08-31 19:34:37.068000+00:00</td>\n",
       "      <td>214510689</td>\n",
       "      <td>4</td>\n",
       "    </tr>\n",
       "    <tr>\n",
       "      <th>126308</th>\n",
       "      <td>9194124</td>\n",
       "      <td>2014-08-31 19:14:28.308000+00:00</td>\n",
       "      <td>214849327</td>\n",
       "      <td>5</td>\n",
       "    </tr>\n",
       "    <tr>\n",
       "      <th>126309</th>\n",
       "      <td>9194124</td>\n",
       "      <td>2014-08-31 19:16:31.114000+00:00</td>\n",
       "      <td>214828970</td>\n",
       "      <td>6</td>\n",
       "    </tr>\n",
       "    <tr>\n",
       "      <th>126311</th>\n",
       "      <td>9194127</td>\n",
       "      <td>2014-09-01 15:36:11.651000+00:00</td>\n",
       "      <td>214845997</td>\n",
       "      <td>7</td>\n",
       "    </tr>\n",
       "    <tr>\n",
       "      <th>126312</th>\n",
       "      <td>9194127</td>\n",
       "      <td>2014-09-01 15:38:00.222000+00:00</td>\n",
       "      <td>214845997</td>\n",
       "      <td>7</td>\n",
       "    </tr>\n",
       "    <tr>\n",
       "      <th>126313</th>\n",
       "      <td>9194127</td>\n",
       "      <td>2014-09-01 15:38:56.867000+00:00</td>\n",
       "      <td>214845997</td>\n",
       "      <td>7</td>\n",
       "    </tr>\n",
       "    <tr>\n",
       "      <th>126324</th>\n",
       "      <td>9194128</td>\n",
       "      <td>2014-08-31 19:09:27.360000+00:00</td>\n",
       "      <td>214581830</td>\n",
       "      <td>8</td>\n",
       "    </tr>\n",
       "    <tr>\n",
       "      <th>126325</th>\n",
       "      <td>9194128</td>\n",
       "      <td>2014-08-31 19:10:04.641000+00:00</td>\n",
       "      <td>214574135</td>\n",
       "      <td>9</td>\n",
       "    </tr>\n",
       "    <tr>\n",
       "      <th>126326</th>\n",
       "      <td>9194128</td>\n",
       "      <td>2014-08-31 19:10:57+00:00</td>\n",
       "      <td>214857795</td>\n",
       "      <td>10</td>\n",
       "    </tr>\n",
       "    <tr>\n",
       "      <th>126327</th>\n",
       "      <td>9194128</td>\n",
       "      <td>2014-08-31 19:11:31.797000+00:00</td>\n",
       "      <td>214574139</td>\n",
       "      <td>11</td>\n",
       "    </tr>\n",
       "  </tbody>\n",
       "</table>\n",
       "</div>"
      ],
      "text/plain": [
       "        SessionId                             Time     ItemId  item_idx\n",
       "126221    9194111 2014-08-31 17:40:46.805000+00:00  214853420         0\n",
       "126222    9194111 2014-08-31 17:42:26.089000+00:00  214850942         1\n",
       "126223    9194111 2014-08-31 17:44:06.583000+00:00  214829878         2\n",
       "126224    9194111 2014-08-31 17:48:49.873000+00:00  214853420         0\n",
       "126314    9194123 2014-08-31 19:26:57.386000+00:00  214601207         3\n",
       "126315    9194123 2014-08-31 19:34:37.068000+00:00  214510689         4\n",
       "126308    9194124 2014-08-31 19:14:28.308000+00:00  214849327         5\n",
       "126309    9194124 2014-08-31 19:16:31.114000+00:00  214828970         6\n",
       "126311    9194127 2014-09-01 15:36:11.651000+00:00  214845997         7\n",
       "126312    9194127 2014-09-01 15:38:00.222000+00:00  214845997         7\n",
       "126313    9194127 2014-09-01 15:38:56.867000+00:00  214845997         7\n",
       "126324    9194128 2014-08-31 19:09:27.360000+00:00  214581830         8\n",
       "126325    9194128 2014-08-31 19:10:04.641000+00:00  214574135         9\n",
       "126326    9194128        2014-08-31 19:10:57+00:00  214857795        10\n",
       "126327    9194128 2014-08-31 19:11:31.797000+00:00  214574139        11"
      ]
     },
     "execution_count": 46,
     "metadata": {},
     "output_type": "execute_result"
    }
   ],
   "source": [
    "tr_data_loader = SessionDataLoader(tr_dataset, batch_size=4)\n",
    "tr_dataset.df.head(15)"
   ]
  },
  {
   "cell_type": "code",
   "execution_count": 47,
   "id": "b12c57c7-e5e8-4346-84b4-83e0c168fdcb",
   "metadata": {},
   "outputs": [],
   "source": [
    "iter_ex = iter(tr_data_loader)"
   ]
  },
  {
   "cell_type": "code",
   "execution_count": 48,
   "id": "92b19c0f-0bb5-42f9-acd3-3fc50f80e76e",
   "metadata": {},
   "outputs": [
    {
     "name": "stdout",
     "output_type": "stream",
     "text": [
      "Model Input Item Idx are : [0 3 5 7]\n",
      "Label Item Idx are :       [1 4 6 7]\n",
      "Previous Masked Input Idx are []\n"
     ]
    }
   ],
   "source": [
    "inputs, labels, mask =  next(iter_ex)\n",
    "print(f'Model Input Item Idx are : {inputs}')\n",
    "print(f'Label Item Idx are : {\"\":5} {labels}')\n",
    "print(f'Previous Masked Input Idx are {mask}')"
   ]
  },
  {
   "cell_type": "markdown",
   "id": "741c16ed-c309-4230-b91f-2ae82d4c59b5",
   "metadata": {},
   "source": [
    "## Modeling"
   ]
  },
  {
   "cell_type": "markdown",
   "id": "c8c4dbfb-856a-40cb-8188-45e76bf18fbc",
   "metadata": {},
   "source": [
    "### Evaluation Metric 성능 지표"
   ]
  },
  {
   "cell_type": "code",
   "execution_count": 49,
   "id": "9fe45881-1b57-47d1-90ea-b231cd1e401a",
   "metadata": {},
   "outputs": [],
   "source": [
    "def mrr_k(pred, truth: int, k: int):\n",
    "    indexing = np.where(pred[:k] == truth)[0]\n",
    "    if len(indexing) > 0:\n",
    "        return 1 / (indexing[0] + 1)\n",
    "    else:\n",
    "        return 0\n",
    "\n",
    "\n",
    "def recall_k(pred, truth: int, k: int) -> int:\n",
    "    answer = truth in pred[:k]\n",
    "    return int(answer)"
   ]
  },
  {
   "cell_type": "markdown",
   "id": "eb0f606e-7749-4f71-8a14-d767a80db4aa",
   "metadata": {},
   "source": [
    "### Model Architecture"
   ]
  },
  {
   "cell_type": "code",
   "execution_count": 50,
   "id": "9120ab0c-b36d-476f-919f-574871db7c88",
   "metadata": {},
   "outputs": [],
   "source": [
    "import numpy as np\n",
    "import tensorflow as tf\n",
    "from tensorflow.keras.layers import Input, Dense, Dropout, GRU\n",
    "from tensorflow.keras.losses import categorical_crossentropy\n",
    "from tensorflow.keras.models import Model\n",
    "from tensorflow.keras.optimizers import Adam\n",
    "from tensorflow.keras.utils import to_categorical\n",
    "from tqdm import tqdm"
   ]
  },
  {
   "cell_type": "code",
   "execution_count": 53,
   "id": "4655cdee-62da-4f57-81b4-eecb5033ed76",
   "metadata": {},
   "outputs": [],
   "source": [
    "def create_model(args):\n",
    "    inputs = Input(batch_shape=(args.batch_size, 1, args.num_items))\n",
    "    gru, _ = GRU(args.hsz, stateful=True, return_state=True, name='GRU')(inputs)\n",
    "    dropout = Dropout(args.drop_rate)(gru)\n",
    "    predictions = Dense(args.num_items, activation='softmax')(dropout)\n",
    "    model = Model(inputs=inputs, outputs=[predictions])\n",
    "    model.compile(loss=categorical_crossentropy, optimizer=Adam(args.lr), metrics=['accuracy'])\n",
    "    model.summary()\n",
    "    return model"
   ]
  },
  {
   "cell_type": "code",
   "execution_count": 54,
   "id": "5a7d7d8f-e54c-483e-bb1d-11d3c55fc391",
   "metadata": {},
   "outputs": [],
   "source": [
    "class Args:\n",
    "    def __init__(self, tr, val, test, batch_size, hsz, drop_rate, lr, epochs, k):\n",
    "        self.tr = tr\n",
    "        self.val = val\n",
    "        self.test = test\n",
    "        self.num_items = tr['ItemId'].nunique()\n",
    "        self.num_sessions = tr['SessionId'].nunique()\n",
    "        self.batch_size = batch_size\n",
    "        self.hsz = hsz\n",
    "        self.drop_rate = drop_rate\n",
    "        self.lr = lr\n",
    "        self.epochs = epochs\n",
    "        self.k = k\n",
    "\n",
    "args = Args(tr, val, test, batch_size=2048, hsz=50, drop_rate=0.1, lr=0.001, epochs=3, k=20)"
   ]
  },
  {
   "cell_type": "code",
   "execution_count": 55,
   "id": "bee4c457-ef13-4f28-9663-ef896a595a95",
   "metadata": {},
   "outputs": [
    {
     "data": {
      "text/html": [
       "<pre style=\"white-space:pre;overflow-x:auto;line-height:normal;font-family:Menlo,'DejaVu Sans Mono',consolas,'Courier New',monospace\"><span style=\"font-weight: bold\">Model: \"functional\"</span>\n",
       "</pre>\n"
      ],
      "text/plain": [
       "\u001b[1mModel: \"functional\"\u001b[0m\n"
      ]
     },
     "metadata": {},
     "output_type": "display_data"
    },
    {
     "data": {
      "text/html": [
       "<pre style=\"white-space:pre;overflow-x:auto;line-height:normal;font-family:Menlo,'DejaVu Sans Mono',consolas,'Courier New',monospace\">┏━━━━━━━━━━━━━━━━━━━━━━━━━━━━━━━━━━━━━━┳━━━━━━━━━━━━━━━━━━━━━━━━━━━━━┳━━━━━━━━━━━━━━━━━┓\n",
       "┃<span style=\"font-weight: bold\"> Layer (type)                         </span>┃<span style=\"font-weight: bold\"> Output Shape                </span>┃<span style=\"font-weight: bold\">         Param # </span>┃\n",
       "┡━━━━━━━━━━━━━━━━━━━━━━━━━━━━━━━━━━━━━━╇━━━━━━━━━━━━━━━━━━━━━━━━━━━━━╇━━━━━━━━━━━━━━━━━┩\n",
       "│ input_layer (<span style=\"color: #0087ff; text-decoration-color: #0087ff\">InputLayer</span>)             │ (<span style=\"color: #00af00; text-decoration-color: #00af00\">2048</span>, <span style=\"color: #00af00; text-decoration-color: #00af00\">1</span>, <span style=\"color: #00af00; text-decoration-color: #00af00\">20153</span>)            │               <span style=\"color: #00af00; text-decoration-color: #00af00\">0</span> │\n",
       "├──────────────────────────────────────┼─────────────────────────────┼─────────────────┤\n",
       "│ GRU (<span style=\"color: #0087ff; text-decoration-color: #0087ff\">GRU</span>)                            │ [(<span style=\"color: #00af00; text-decoration-color: #00af00\">2048</span>, <span style=\"color: #00af00; text-decoration-color: #00af00\">50</span>), (<span style=\"color: #00af00; text-decoration-color: #00af00\">2048</span>, <span style=\"color: #00af00; text-decoration-color: #00af00\">50</span>)]    │       <span style=\"color: #00af00; text-decoration-color: #00af00\">3,030,750</span> │\n",
       "├──────────────────────────────────────┼─────────────────────────────┼─────────────────┤\n",
       "│ dropout (<span style=\"color: #0087ff; text-decoration-color: #0087ff\">Dropout</span>)                    │ (<span style=\"color: #00af00; text-decoration-color: #00af00\">2048</span>, <span style=\"color: #00af00; text-decoration-color: #00af00\">50</span>)                  │               <span style=\"color: #00af00; text-decoration-color: #00af00\">0</span> │\n",
       "├──────────────────────────────────────┼─────────────────────────────┼─────────────────┤\n",
       "│ dense (<span style=\"color: #0087ff; text-decoration-color: #0087ff\">Dense</span>)                        │ (<span style=\"color: #00af00; text-decoration-color: #00af00\">2048</span>, <span style=\"color: #00af00; text-decoration-color: #00af00\">20153</span>)               │       <span style=\"color: #00af00; text-decoration-color: #00af00\">1,027,803</span> │\n",
       "└──────────────────────────────────────┴─────────────────────────────┴─────────────────┘\n",
       "</pre>\n"
      ],
      "text/plain": [
       "┏━━━━━━━━━━━━━━━━━━━━━━━━━━━━━━━━━━━━━━┳━━━━━━━━━━━━━━━━━━━━━━━━━━━━━┳━━━━━━━━━━━━━━━━━┓\n",
       "┃\u001b[1m \u001b[0m\u001b[1mLayer (type)                        \u001b[0m\u001b[1m \u001b[0m┃\u001b[1m \u001b[0m\u001b[1mOutput Shape               \u001b[0m\u001b[1m \u001b[0m┃\u001b[1m \u001b[0m\u001b[1m        Param #\u001b[0m\u001b[1m \u001b[0m┃\n",
       "┡━━━━━━━━━━━━━━━━━━━━━━━━━━━━━━━━━━━━━━╇━━━━━━━━━━━━━━━━━━━━━━━━━━━━━╇━━━━━━━━━━━━━━━━━┩\n",
       "│ input_layer (\u001b[38;5;33mInputLayer\u001b[0m)             │ (\u001b[38;5;34m2048\u001b[0m, \u001b[38;5;34m1\u001b[0m, \u001b[38;5;34m20153\u001b[0m)            │               \u001b[38;5;34m0\u001b[0m │\n",
       "├──────────────────────────────────────┼─────────────────────────────┼─────────────────┤\n",
       "│ GRU (\u001b[38;5;33mGRU\u001b[0m)                            │ [(\u001b[38;5;34m2048\u001b[0m, \u001b[38;5;34m50\u001b[0m), (\u001b[38;5;34m2048\u001b[0m, \u001b[38;5;34m50\u001b[0m)]    │       \u001b[38;5;34m3,030,750\u001b[0m │\n",
       "├──────────────────────────────────────┼─────────────────────────────┼─────────────────┤\n",
       "│ dropout (\u001b[38;5;33mDropout\u001b[0m)                    │ (\u001b[38;5;34m2048\u001b[0m, \u001b[38;5;34m50\u001b[0m)                  │               \u001b[38;5;34m0\u001b[0m │\n",
       "├──────────────────────────────────────┼─────────────────────────────┼─────────────────┤\n",
       "│ dense (\u001b[38;5;33mDense\u001b[0m)                        │ (\u001b[38;5;34m2048\u001b[0m, \u001b[38;5;34m20153\u001b[0m)               │       \u001b[38;5;34m1,027,803\u001b[0m │\n",
       "└──────────────────────────────────────┴─────────────────────────────┴─────────────────┘\n"
      ]
     },
     "metadata": {},
     "output_type": "display_data"
    },
    {
     "data": {
      "text/html": [
       "<pre style=\"white-space:pre;overflow-x:auto;line-height:normal;font-family:Menlo,'DejaVu Sans Mono',consolas,'Courier New',monospace\"><span style=\"font-weight: bold\"> Total params: </span><span style=\"color: #00af00; text-decoration-color: #00af00\">4,058,553</span> (15.48 MB)\n",
       "</pre>\n"
      ],
      "text/plain": [
       "\u001b[1m Total params: \u001b[0m\u001b[38;5;34m4,058,553\u001b[0m (15.48 MB)\n"
      ]
     },
     "metadata": {},
     "output_type": "display_data"
    },
    {
     "data": {
      "text/html": [
       "<pre style=\"white-space:pre;overflow-x:auto;line-height:normal;font-family:Menlo,'DejaVu Sans Mono',consolas,'Courier New',monospace\"><span style=\"font-weight: bold\"> Trainable params: </span><span style=\"color: #00af00; text-decoration-color: #00af00\">4,058,553</span> (15.48 MB)\n",
       "</pre>\n"
      ],
      "text/plain": [
       "\u001b[1m Trainable params: \u001b[0m\u001b[38;5;34m4,058,553\u001b[0m (15.48 MB)\n"
      ]
     },
     "metadata": {},
     "output_type": "display_data"
    },
    {
     "data": {
      "text/html": [
       "<pre style=\"white-space:pre;overflow-x:auto;line-height:normal;font-family:Menlo,'DejaVu Sans Mono',consolas,'Courier New',monospace\"><span style=\"font-weight: bold\"> Non-trainable params: </span><span style=\"color: #00af00; text-decoration-color: #00af00\">0</span> (0.00 B)\n",
       "</pre>\n"
      ],
      "text/plain": [
       "\u001b[1m Non-trainable params: \u001b[0m\u001b[38;5;34m0\u001b[0m (0.00 B)\n"
      ]
     },
     "metadata": {},
     "output_type": "display_data"
    }
   ],
   "source": [
    "model = create_model(args)"
   ]
  },
  {
   "cell_type": "markdown",
   "id": "80b0c091-594c-4613-a977-38b539579584",
   "metadata": {},
   "source": [
    "### Model Training"
   ]
  },
  {
   "cell_type": "code",
   "execution_count": 60,
   "id": "70167065-aab0-41ce-bd36-a0782dca0c34",
   "metadata": {},
   "outputs": [],
   "source": [
    "# train 셋으로 학습하면서 valid 셋으로 검증한다.\n",
    "def train_model(model, args):\n",
    "    train_dataset = SessionDataset(args.tr)\n",
    "    train_loader = SessionDataLoader(train_dataset, batch_size=args.batch_size)\n",
    "\n",
    "    for epoch in range(1, args.epochs + 1):\n",
    "        total_step = len(args.tr) - args.tr['SessionId'].nunique()\n",
    "        tr_loader = tqdm(train_loader, total=total_step // args.batch_size, desc='Train', mininterval=1)\n",
    "        for feat, target, mask in tr_loader:\n",
    "            reset_hidden_states(model, mask)  # 종료된 session은 hidden_state를 초기화. \n",
    "\n",
    "            input_ohe = to_categorical(feat, num_classes=args.num_items)\n",
    "            input_ohe = np.expand_dims(input_ohe, axis=1)\n",
    "            target_ohe = to_categorical(target, num_classes=args.num_items)\n",
    "\n",
    "            result = model.train_on_batch(input_ohe, target_ohe)\n",
    "            tr_loader.set_postfix(train_loss=result[0], accuracy = result[1])\n",
    "\n",
    "        val_recall, val_mrr = get_metrics(args.val, model, args, args.k)  # valid set에 대해 검증\n",
    "\n",
    "        print(f\"\\t - Recall@{args.k} epoch {epoch}: {val_recall:3f}\")\n",
    "        print(f\"\\t - MRR@{args.k}    epoch {epoch}: {val_mrr:3f}\\n\")\n",
    "\n",
    "\n",
    "# def reset_hidden_states(model, mask):\n",
    "#     gru_layer = model.get_layer(name='GRU')  # model에서 gru layer를 가져온다.\n",
    "#     hidden_states = gru_layer.states[0].numpy()  # gru_layer의 parameter를 가져온다.\n",
    "#     for elt in mask:  # mask된 인덱스 즉, 종료된 세션의 인덱스를 돌면서\n",
    "#         hidden_states[elt, :] = 0  # parameter를 초기화.\n",
    "#     gru_layer.reset_states(states=hidden_states)\n",
    "\n",
    "def reset_hidden_states(model, mask):\n",
    "    gru_layer = model.get_layer(name='GRU')\n",
    "    gru_layer.reset_states()  # 내부 hidden state 전체 초기화\n",
    "\n",
    "\n",
    "## 모델을 가져오는 과정에서 수정이 필요하다.\n",
    "def get_metrics(data, model, args, k: int):  # valid셋과 test셋을 평가하는 코드\n",
    "                                             # train과 거의 같지만 mrr, recall을 구하는 라인이 있다.\n",
    "    dataset = SessionDataset(data)\n",
    "    loader = SessionDataLoader(dataset, batch_size=args.batch_size)\n",
    "    recall_list, mrr_list = [], []\n",
    "\n",
    "    total_step = len(data) - data['SessionId'].nunique()\n",
    "\n",
    "    for inputs, label, mask in tqdm(loader, total=total_step // args.batch_size, desc='Evaluation', mininterval=1):\n",
    "        reset_hidden_states(model, mask)\n",
    "        input_ohe = to_categorical(inputs, num_classes=args.num_items)\n",
    "        input_ohe = np.expand_dims(input_ohe, axis=1)\n",
    "\n",
    "        pred = model.predict(input_ohe, batch_size=args.batch_size)\n",
    "        # pred = model(input_ohe, training=False)\n",
    "\n",
    "        # # 🔥 dict이면 첫 번째 값만 추출\n",
    "        # if isinstance(pred, dict):\n",
    "        #     pred = list(pred.values())[0]\n",
    "\n",
    "        pred_arg = tf.argsort(pred, direction='DESCENDING')  # softmax 값이 큰 순서대로 sorting 한다.\n",
    "\n",
    "        length = len(inputs)\n",
    "        recall_list.extend([recall_k(pred_arg[i], label[i], k) for i in range(length)])\n",
    "        mrr_list.extend([mrr_k(pred_arg[i], label[i], k) for i in range(length)])\n",
    "\n",
    "    recall, mrr = np.mean(recall_list), np.mean(mrr_list)\n",
    "    return recall, mrr"
   ]
  },
  {
   "cell_type": "code",
   "execution_count": 61,
   "id": "cc9ff836-644d-415a-b823-ff29297f1834",
   "metadata": {},
   "outputs": [],
   "source": [
    "from keras.layers import TFSMLayer\n",
    "\n",
    "# ## colab에서 하면 keras 모델을 불러오는 방법이 달라집니다 load model을 하려면 keras 로 저장했어야하는데 h5 형태이기때문\n",
    "# model = TFSMLayer(\n",
    "#     \"/content/drive/MyDrive/Colab Notebooks/데싸4기/추천시스템/data/trained_model\",\n",
    "#     call_endpoint=\"serving_default\"  # 보통 이 이름이 맞지만 다른 경우도 있음\n",
    "# )"
   ]
  },
  {
   "cell_type": "code",
   "execution_count": 62,
   "id": "2d1dfe74-2b57-4b24-a30a-578943a37c07",
   "metadata": {},
   "outputs": [
    {
     "name": "stderr",
     "output_type": "stream",
     "text": [
      "Evaluation:   0%|                                                                               | 0/27 [00:00<?, ?it/s]"
     ]
    },
    {
     "name": "stdout",
     "output_type": "stream",
     "text": [
      "\u001b[1m1/1\u001b[0m \u001b[32m━━━━━━━━━━━━━━━━━━━━\u001b[0m\u001b[37m\u001b[0m \u001b[1m1s\u001b[0m 733ms/step\n"
     ]
    },
    {
     "name": "stderr",
     "output_type": "stream",
     "text": [
      "Evaluation:   4%|██▋                                                                    | 1/27 [00:28<12:31, 28.91s/it]"
     ]
    },
    {
     "name": "stdout",
     "output_type": "stream",
     "text": [
      "\u001b[1m1/1\u001b[0m \u001b[32m━━━━━━━━━━━━━━━━━━━━\u001b[0m\u001b[37m\u001b[0m \u001b[1m0s\u001b[0m 474ms/step\n"
     ]
    },
    {
     "name": "stderr",
     "output_type": "stream",
     "text": [
      "Evaluation:   7%|█████▎                                                                 | 2/27 [01:09<14:48, 35.54s/it]"
     ]
    },
    {
     "name": "stdout",
     "output_type": "stream",
     "text": [
      "\u001b[1m1/1\u001b[0m \u001b[32m━━━━━━━━━━━━━━━━━━━━\u001b[0m\u001b[37m\u001b[0m \u001b[1m0s\u001b[0m 388ms/step\n"
     ]
    },
    {
     "name": "stderr",
     "output_type": "stream",
     "text": [
      "Evaluation:  11%|███████▉                                                               | 3/27 [01:45<14:18, 35.78s/it]"
     ]
    },
    {
     "name": "stdout",
     "output_type": "stream",
     "text": [
      "\u001b[1m1/1\u001b[0m \u001b[32m━━━━━━━━━━━━━━━━━━━━\u001b[0m\u001b[37m\u001b[0m \u001b[1m0s\u001b[0m 371ms/step\n"
     ]
    },
    {
     "name": "stderr",
     "output_type": "stream",
     "text": [
      "Evaluation:  15%|██████████▌                                                            | 4/27 [02:27<14:44, 38.47s/it]"
     ]
    },
    {
     "name": "stdout",
     "output_type": "stream",
     "text": [
      "\u001b[1m1/1\u001b[0m \u001b[32m━━━━━━━━━━━━━━━━━━━━\u001b[0m\u001b[37m\u001b[0m \u001b[1m0s\u001b[0m 404ms/step\n"
     ]
    },
    {
     "name": "stderr",
     "output_type": "stream",
     "text": [
      "Evaluation:  19%|█████████████▏                                                         | 5/27 [03:09<14:30, 39.55s/it]"
     ]
    },
    {
     "name": "stdout",
     "output_type": "stream",
     "text": [
      "\u001b[1m1/1\u001b[0m \u001b[32m━━━━━━━━━━━━━━━━━━━━\u001b[0m\u001b[37m\u001b[0m \u001b[1m0s\u001b[0m 412ms/step\n"
     ]
    },
    {
     "name": "stderr",
     "output_type": "stream",
     "text": [
      "Evaluation:  22%|███████████████▊                                                       | 6/27 [03:57<14:50, 42.39s/it]"
     ]
    },
    {
     "name": "stdout",
     "output_type": "stream",
     "text": [
      "\u001b[1m1/1\u001b[0m \u001b[32m━━━━━━━━━━━━━━━━━━━━\u001b[0m\u001b[37m\u001b[0m \u001b[1m0s\u001b[0m 387ms/step\n"
     ]
    },
    {
     "name": "stderr",
     "output_type": "stream",
     "text": [
      "Evaluation:  26%|██████████████████▍                                                    | 7/27 [04:31<13:15, 39.78s/it]"
     ]
    },
    {
     "name": "stdout",
     "output_type": "stream",
     "text": [
      "\u001b[1m1/1\u001b[0m \u001b[32m━━━━━━━━━━━━━━━━━━━━\u001b[0m\u001b[37m\u001b[0m \u001b[1m0s\u001b[0m 329ms/step\n"
     ]
    },
    {
     "name": "stderr",
     "output_type": "stream",
     "text": [
      "Evaluation:  30%|█████████████████████                                                  | 8/27 [05:12<12:45, 40.31s/it]"
     ]
    },
    {
     "name": "stdout",
     "output_type": "stream",
     "text": [
      "\u001b[1m1/1\u001b[0m \u001b[32m━━━━━━━━━━━━━━━━━━━━\u001b[0m\u001b[37m\u001b[0m \u001b[1m0s\u001b[0m 470ms/step\n"
     ]
    },
    {
     "name": "stderr",
     "output_type": "stream",
     "text": [
      "Evaluation:  33%|███████████████████████▋                                               | 9/27 [05:45<11:20, 37.79s/it]"
     ]
    },
    {
     "name": "stdout",
     "output_type": "stream",
     "text": [
      "\u001b[1m1/1\u001b[0m \u001b[32m━━━━━━━━━━━━━━━━━━━━\u001b[0m\u001b[37m\u001b[0m \u001b[1m0s\u001b[0m 387ms/step\n"
     ]
    },
    {
     "name": "stderr",
     "output_type": "stream",
     "text": [
      "Evaluation:  37%|█████████████████████████▉                                            | 10/27 [06:24<10:52, 38.36s/it]"
     ]
    },
    {
     "name": "stdout",
     "output_type": "stream",
     "text": [
      "\u001b[1m1/1\u001b[0m \u001b[32m━━━━━━━━━━━━━━━━━━━━\u001b[0m\u001b[37m\u001b[0m \u001b[1m0s\u001b[0m 328ms/step\n"
     ]
    },
    {
     "name": "stderr",
     "output_type": "stream",
     "text": [
      "Evaluation:  41%|████████████████████████████▌                                         | 11/27 [07:16<11:16, 42.28s/it]"
     ]
    },
    {
     "name": "stdout",
     "output_type": "stream",
     "text": [
      "\u001b[1m1/1\u001b[0m \u001b[32m━━━━━━━━━━━━━━━━━━━━\u001b[0m\u001b[37m\u001b[0m \u001b[1m1s\u001b[0m 512ms/step\n"
     ]
    },
    {
     "name": "stderr",
     "output_type": "stream",
     "text": [
      "Evaluation:  44%|███████████████████████████████                                       | 12/27 [08:11<11:33, 46.26s/it]"
     ]
    },
    {
     "name": "stdout",
     "output_type": "stream",
     "text": [
      "\u001b[1m1/1\u001b[0m \u001b[32m━━━━━━━━━━━━━━━━━━━━\u001b[0m\u001b[37m\u001b[0m \u001b[1m0s\u001b[0m 419ms/step\n"
     ]
    },
    {
     "name": "stderr",
     "output_type": "stream",
     "text": [
      "Evaluation:  48%|█████████████████████████████████▋                                    | 13/27 [09:08<11:32, 49.46s/it]"
     ]
    },
    {
     "name": "stdout",
     "output_type": "stream",
     "text": [
      "\u001b[1m1/1\u001b[0m \u001b[32m━━━━━━━━━━━━━━━━━━━━\u001b[0m\u001b[37m\u001b[0m \u001b[1m1s\u001b[0m 541ms/step\n"
     ]
    },
    {
     "name": "stderr",
     "output_type": "stream",
     "text": [
      "Evaluation:  52%|████████████████████████████████████▎                                 | 14/27 [10:21<12:15, 56.60s/it]"
     ]
    },
    {
     "name": "stdout",
     "output_type": "stream",
     "text": [
      "\u001b[1m1/1\u001b[0m \u001b[32m━━━━━━━━━━━━━━━━━━━━\u001b[0m\u001b[37m\u001b[0m \u001b[1m0s\u001b[0m 500ms/step\n"
     ]
    },
    {
     "name": "stderr",
     "output_type": "stream",
     "text": [
      "Evaluation:  56%|██████████████████████████████████████▉                               | 15/27 [11:10<10:52, 54.39s/it]"
     ]
    },
    {
     "name": "stdout",
     "output_type": "stream",
     "text": [
      "\u001b[1m1/1\u001b[0m \u001b[32m━━━━━━━━━━━━━━━━━━━━\u001b[0m\u001b[37m\u001b[0m \u001b[1m0s\u001b[0m 368ms/step\n"
     ]
    },
    {
     "name": "stderr",
     "output_type": "stream",
     "text": [
      "Evaluation:  59%|█████████████████████████████████████████▍                            | 16/27 [11:40<08:37, 47.05s/it]"
     ]
    },
    {
     "name": "stdout",
     "output_type": "stream",
     "text": [
      "\u001b[1m1/1\u001b[0m \u001b[32m━━━━━━━━━━━━━━━━━━━━\u001b[0m\u001b[37m\u001b[0m \u001b[1m0s\u001b[0m 383ms/step\n"
     ]
    },
    {
     "name": "stderr",
     "output_type": "stream",
     "text": [
      "Evaluation:  63%|████████████████████████████████████████████                          | 17/27 [12:10<06:59, 41.92s/it]"
     ]
    },
    {
     "name": "stdout",
     "output_type": "stream",
     "text": [
      "\u001b[1m1/1\u001b[0m \u001b[32m━━━━━━━━━━━━━━━━━━━━\u001b[0m\u001b[37m\u001b[0m \u001b[1m0s\u001b[0m 353ms/step\n"
     ]
    },
    {
     "name": "stderr",
     "output_type": "stream",
     "text": [
      "Evaluation:  67%|██████████████████████████████████████████████▋                       | 18/27 [12:40<05:43, 38.17s/it]"
     ]
    },
    {
     "name": "stdout",
     "output_type": "stream",
     "text": [
      "\u001b[1m1/1\u001b[0m \u001b[32m━━━━━━━━━━━━━━━━━━━━\u001b[0m\u001b[37m\u001b[0m \u001b[1m0s\u001b[0m 345ms/step\n"
     ]
    },
    {
     "name": "stderr",
     "output_type": "stream",
     "text": [
      "Evaluation:  70%|█████████████████████████████████████████████████▎                    | 19/27 [13:09<04:44, 35.55s/it]"
     ]
    },
    {
     "name": "stdout",
     "output_type": "stream",
     "text": [
      "\u001b[1m1/1\u001b[0m \u001b[32m━━━━━━━━━━━━━━━━━━━━\u001b[0m\u001b[37m\u001b[0m \u001b[1m0s\u001b[0m 334ms/step\n"
     ]
    },
    {
     "name": "stderr",
     "output_type": "stream",
     "text": [
      "Evaluation:  74%|███████████████████████████████████████████████████▊                  | 20/27 [13:38<03:54, 33.48s/it]"
     ]
    },
    {
     "name": "stdout",
     "output_type": "stream",
     "text": [
      "\u001b[1m1/1\u001b[0m \u001b[32m━━━━━━━━━━━━━━━━━━━━\u001b[0m\u001b[37m\u001b[0m \u001b[1m0s\u001b[0m 322ms/step\n"
     ]
    },
    {
     "name": "stderr",
     "output_type": "stream",
     "text": [
      "Evaluation:  78%|██████████████████████████████████████████████████████▍               | 21/27 [14:06<03:10, 31.82s/it]"
     ]
    },
    {
     "name": "stdout",
     "output_type": "stream",
     "text": [
      "\u001b[1m1/1\u001b[0m \u001b[32m━━━━━━━━━━━━━━━━━━━━\u001b[0m\u001b[37m\u001b[0m \u001b[1m0s\u001b[0m 321ms/step\n"
     ]
    },
    {
     "name": "stderr",
     "output_type": "stream",
     "text": [
      "Evaluation:  81%|█████████████████████████████████████████████████████████             | 22/27 [14:34<03:18, 39.74s/it]"
     ]
    },
    {
     "name": "stdout",
     "output_type": "stream",
     "text": [
      "\t - Recall@20: 0.000355\n",
      "\t - MRR@20: 0.000056\n",
      "\n"
     ]
    },
    {
     "name": "stderr",
     "output_type": "stream",
     "text": [
      "\n"
     ]
    }
   ],
   "source": [
    "def test_model(model, args, test):\n",
    "    test_recall, test_mrr = get_metrics(test, model, args, 20)\n",
    "    print(f\"\\t - Recall@{args.k}: {test_recall:3f}\")\n",
    "    print(f\"\\t - MRR@{args.k}: {test_mrr:3f}\\n\")\n",
    "\n",
    "test_model(model, args, test)"
   ]
  },
  {
   "cell_type": "code",
   "execution_count": null,
   "id": "f62045cb-f52f-44a1-8989-59279fd9a8fb",
   "metadata": {},
   "outputs": [],
   "source": []
  }
 ],
 "metadata": {
  "kernelspec": {
   "display_name": "Python 3 (ipykernel)",
   "language": "python",
   "name": "python3"
  },
  "language_info": {
   "codemirror_mode": {
    "name": "ipython",
    "version": 3
   },
   "file_extension": ".py",
   "mimetype": "text/x-python",
   "name": "python",
   "nbconvert_exporter": "python",
   "pygments_lexer": "ipython3",
   "version": "3.12.7"
  }
 },
 "nbformat": 4,
 "nbformat_minor": 5
}
